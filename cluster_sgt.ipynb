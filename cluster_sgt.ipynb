{
 "cells": [
  {
   "cell_type": "code",
   "execution_count": 1,
   "metadata": {},
   "outputs": [],
   "source": [
    "import pandas as pd\n",
    "import networkx as nx\n",
    "import plotly.express as px\n",
    "import plotly.graph_objects as go\n",
    "import seaborn as sns\n",
    "import numpy as np\n",
    "from scipy.cluster.hierarchy import linkage, dendrogram\n",
    "import matplotlib.pyplot as plt\n",
    "import random\n",
    "import sys\n",
    "from sklearn.metrics.pairwise import cosine_similarity\n",
    "from sgt import SGT\n",
    "import numpy as np\n",
    "import plotly.graph_objects as go\n",
    "import umap \n",
    "from sklearn.cluster import KMeans\n",
    "import matplotlib.pyplot as plt\n",
    "import os "
   ]
  },
  {
   "cell_type": "code",
   "execution_count": 2,
   "metadata": {},
   "outputs": [],
   "source": [
    "PATH = \"temp_data/sessions_full.parquet\"\n",
    "#PATH = \"temp_data/sessions_30.parquet\""
   ]
  },
  {
   "attachments": {},
   "cell_type": "markdown",
   "metadata": {},
   "source": [
    "## I.  Read data"
   ]
  },
  {
   "cell_type": "code",
   "execution_count": 3,
   "metadata": {},
   "outputs": [],
   "source": [
    "# read the parquet file\n",
    "sessions = pd.read_parquet(PATH)"
   ]
  },
  {
   "cell_type": "code",
   "execution_count": 4,
   "metadata": {},
   "outputs": [
    {
     "data": {
      "text/plain": [
       "simple_search               30.789814\n",
       "next_page                   21.785991\n",
       "document_access             21.439175\n",
       "prev_page                    6.571709\n",
       "filtering_search_results     4.605041\n",
       "chosen_page                  3.090379\n",
       "first_page                   2.335862\n",
       "zoom                         2.111513\n",
       "document_download            1.975234\n",
       "page_download                1.441500\n",
       "blog_navigation              0.916057\n",
       "to_single_page_mode          0.840829\n",
       "homepage                     0.642561\n",
       "revisit_document             0.552547\n",
       "heading_navigation           0.458309\n",
       "to_multi_page_mode           0.187050\n",
       "advanced_search              0.167612\n",
       "to_vertical_page_mode        0.040605\n",
       "to_double_page_mode          0.031658\n",
       "to_audio_page_mode           0.016554\n",
       "Name: action, dtype: float64"
      ]
     },
     "execution_count": 4,
     "metadata": {},
     "output_type": "execute_result"
    }
   ],
   "source": [
    "# actions value counts\n",
    "actions = sessions['action'].value_counts(normalize=True) * 100\n",
    "actions"
   ]
  },
  {
   "cell_type": "code",
   "execution_count": 5,
   "metadata": {},
   "outputs": [
    {
     "data": {
      "application/vnd.plotly.v1+json": {
       "config": {
        "plotlyServerURL": "https://plot.ly"
       },
       "data": [
        {
         "alignmentgroup": "True",
         "hovertemplate": "index=%{x}<br>Percentage=%{y}<br>text=%{text}<extra></extra>",
         "legendgroup": "",
         "marker": {
          "color": "#636efa",
          "pattern": {
           "shape": ""
          }
         },
         "name": "",
         "offsetgroup": "",
         "orientation": "v",
         "showlegend": false,
         "text": [
          30.789813501222657,
          21.785990537238646,
          21.439175438916205,
          6.571709245975979,
          4.605041011373767,
          3.0903794941509166,
          2.3358621939222046,
          2.111513039037874,
          1.9752338378682768,
          1.441499672784891,
          0.9160568017568765,
          0.840829289697528,
          0.6425609775063585,
          0.5525470063419335,
          0.45830867333284164,
          0.18705025812258197,
          0.16761246892315174,
          0.04060491907496637,
          0.03165766821141712,
          0.01655396454093089
         ],
         "textposition": "outside",
         "texttemplate": "%{text:.2s}",
         "type": "bar",
         "x": [
          "simple_search",
          "next_page",
          "document_access",
          "prev_page",
          "filtering_search_results",
          "chosen_page",
          "first_page",
          "zoom",
          "document_download",
          "page_download",
          "blog_navigation",
          "to_single_page_mode",
          "homepage",
          "revisit_document",
          "heading_navigation",
          "to_multi_page_mode",
          "advanced_search",
          "to_vertical_page_mode",
          "to_double_page_mode",
          "to_audio_page_mode"
         ],
         "xaxis": "x",
         "y": [
          30.789813501222657,
          21.785990537238646,
          21.439175438916205,
          6.571709245975979,
          4.605041011373767,
          3.0903794941509166,
          2.3358621939222046,
          2.111513039037874,
          1.9752338378682768,
          1.441499672784891,
          0.9160568017568765,
          0.840829289697528,
          0.6425609775063585,
          0.5525470063419335,
          0.45830867333284164,
          0.18705025812258197,
          0.16761246892315174,
          0.04060491907496637,
          0.03165766821141712,
          0.01655396454093089
         ],
         "yaxis": "y"
        }
       ],
       "layout": {
        "barmode": "relative",
        "height": 600,
        "legend": {
         "tracegroupgap": 0
        },
        "margin": {
         "t": 60
        },
        "template": {
         "data": {
          "bar": [
           {
            "error_x": {
             "color": "#2a3f5f"
            },
            "error_y": {
             "color": "#2a3f5f"
            },
            "marker": {
             "line": {
              "color": "#E5ECF6",
              "width": 0.5
             },
             "pattern": {
              "fillmode": "overlay",
              "size": 10,
              "solidity": 0.2
             }
            },
            "type": "bar"
           }
          ],
          "barpolar": [
           {
            "marker": {
             "line": {
              "color": "#E5ECF6",
              "width": 0.5
             },
             "pattern": {
              "fillmode": "overlay",
              "size": 10,
              "solidity": 0.2
             }
            },
            "type": "barpolar"
           }
          ],
          "carpet": [
           {
            "aaxis": {
             "endlinecolor": "#2a3f5f",
             "gridcolor": "white",
             "linecolor": "white",
             "minorgridcolor": "white",
             "startlinecolor": "#2a3f5f"
            },
            "baxis": {
             "endlinecolor": "#2a3f5f",
             "gridcolor": "white",
             "linecolor": "white",
             "minorgridcolor": "white",
             "startlinecolor": "#2a3f5f"
            },
            "type": "carpet"
           }
          ],
          "choropleth": [
           {
            "colorbar": {
             "outlinewidth": 0,
             "ticks": ""
            },
            "type": "choropleth"
           }
          ],
          "contour": [
           {
            "colorbar": {
             "outlinewidth": 0,
             "ticks": ""
            },
            "colorscale": [
             [
              0,
              "#0d0887"
             ],
             [
              0.1111111111111111,
              "#46039f"
             ],
             [
              0.2222222222222222,
              "#7201a8"
             ],
             [
              0.3333333333333333,
              "#9c179e"
             ],
             [
              0.4444444444444444,
              "#bd3786"
             ],
             [
              0.5555555555555556,
              "#d8576b"
             ],
             [
              0.6666666666666666,
              "#ed7953"
             ],
             [
              0.7777777777777778,
              "#fb9f3a"
             ],
             [
              0.8888888888888888,
              "#fdca26"
             ],
             [
              1,
              "#f0f921"
             ]
            ],
            "type": "contour"
           }
          ],
          "contourcarpet": [
           {
            "colorbar": {
             "outlinewidth": 0,
             "ticks": ""
            },
            "type": "contourcarpet"
           }
          ],
          "heatmap": [
           {
            "colorbar": {
             "outlinewidth": 0,
             "ticks": ""
            },
            "colorscale": [
             [
              0,
              "#0d0887"
             ],
             [
              0.1111111111111111,
              "#46039f"
             ],
             [
              0.2222222222222222,
              "#7201a8"
             ],
             [
              0.3333333333333333,
              "#9c179e"
             ],
             [
              0.4444444444444444,
              "#bd3786"
             ],
             [
              0.5555555555555556,
              "#d8576b"
             ],
             [
              0.6666666666666666,
              "#ed7953"
             ],
             [
              0.7777777777777778,
              "#fb9f3a"
             ],
             [
              0.8888888888888888,
              "#fdca26"
             ],
             [
              1,
              "#f0f921"
             ]
            ],
            "type": "heatmap"
           }
          ],
          "heatmapgl": [
           {
            "colorbar": {
             "outlinewidth": 0,
             "ticks": ""
            },
            "colorscale": [
             [
              0,
              "#0d0887"
             ],
             [
              0.1111111111111111,
              "#46039f"
             ],
             [
              0.2222222222222222,
              "#7201a8"
             ],
             [
              0.3333333333333333,
              "#9c179e"
             ],
             [
              0.4444444444444444,
              "#bd3786"
             ],
             [
              0.5555555555555556,
              "#d8576b"
             ],
             [
              0.6666666666666666,
              "#ed7953"
             ],
             [
              0.7777777777777778,
              "#fb9f3a"
             ],
             [
              0.8888888888888888,
              "#fdca26"
             ],
             [
              1,
              "#f0f921"
             ]
            ],
            "type": "heatmapgl"
           }
          ],
          "histogram": [
           {
            "marker": {
             "pattern": {
              "fillmode": "overlay",
              "size": 10,
              "solidity": 0.2
             }
            },
            "type": "histogram"
           }
          ],
          "histogram2d": [
           {
            "colorbar": {
             "outlinewidth": 0,
             "ticks": ""
            },
            "colorscale": [
             [
              0,
              "#0d0887"
             ],
             [
              0.1111111111111111,
              "#46039f"
             ],
             [
              0.2222222222222222,
              "#7201a8"
             ],
             [
              0.3333333333333333,
              "#9c179e"
             ],
             [
              0.4444444444444444,
              "#bd3786"
             ],
             [
              0.5555555555555556,
              "#d8576b"
             ],
             [
              0.6666666666666666,
              "#ed7953"
             ],
             [
              0.7777777777777778,
              "#fb9f3a"
             ],
             [
              0.8888888888888888,
              "#fdca26"
             ],
             [
              1,
              "#f0f921"
             ]
            ],
            "type": "histogram2d"
           }
          ],
          "histogram2dcontour": [
           {
            "colorbar": {
             "outlinewidth": 0,
             "ticks": ""
            },
            "colorscale": [
             [
              0,
              "#0d0887"
             ],
             [
              0.1111111111111111,
              "#46039f"
             ],
             [
              0.2222222222222222,
              "#7201a8"
             ],
             [
              0.3333333333333333,
              "#9c179e"
             ],
             [
              0.4444444444444444,
              "#bd3786"
             ],
             [
              0.5555555555555556,
              "#d8576b"
             ],
             [
              0.6666666666666666,
              "#ed7953"
             ],
             [
              0.7777777777777778,
              "#fb9f3a"
             ],
             [
              0.8888888888888888,
              "#fdca26"
             ],
             [
              1,
              "#f0f921"
             ]
            ],
            "type": "histogram2dcontour"
           }
          ],
          "mesh3d": [
           {
            "colorbar": {
             "outlinewidth": 0,
             "ticks": ""
            },
            "type": "mesh3d"
           }
          ],
          "parcoords": [
           {
            "line": {
             "colorbar": {
              "outlinewidth": 0,
              "ticks": ""
             }
            },
            "type": "parcoords"
           }
          ],
          "pie": [
           {
            "automargin": true,
            "type": "pie"
           }
          ],
          "scatter": [
           {
            "fillpattern": {
             "fillmode": "overlay",
             "size": 10,
             "solidity": 0.2
            },
            "type": "scatter"
           }
          ],
          "scatter3d": [
           {
            "line": {
             "colorbar": {
              "outlinewidth": 0,
              "ticks": ""
             }
            },
            "marker": {
             "colorbar": {
              "outlinewidth": 0,
              "ticks": ""
             }
            },
            "type": "scatter3d"
           }
          ],
          "scattercarpet": [
           {
            "marker": {
             "colorbar": {
              "outlinewidth": 0,
              "ticks": ""
             }
            },
            "type": "scattercarpet"
           }
          ],
          "scattergeo": [
           {
            "marker": {
             "colorbar": {
              "outlinewidth": 0,
              "ticks": ""
             }
            },
            "type": "scattergeo"
           }
          ],
          "scattergl": [
           {
            "marker": {
             "colorbar": {
              "outlinewidth": 0,
              "ticks": ""
             }
            },
            "type": "scattergl"
           }
          ],
          "scattermapbox": [
           {
            "marker": {
             "colorbar": {
              "outlinewidth": 0,
              "ticks": ""
             }
            },
            "type": "scattermapbox"
           }
          ],
          "scatterpolar": [
           {
            "marker": {
             "colorbar": {
              "outlinewidth": 0,
              "ticks": ""
             }
            },
            "type": "scatterpolar"
           }
          ],
          "scatterpolargl": [
           {
            "marker": {
             "colorbar": {
              "outlinewidth": 0,
              "ticks": ""
             }
            },
            "type": "scatterpolargl"
           }
          ],
          "scatterternary": [
           {
            "marker": {
             "colorbar": {
              "outlinewidth": 0,
              "ticks": ""
             }
            },
            "type": "scatterternary"
           }
          ],
          "surface": [
           {
            "colorbar": {
             "outlinewidth": 0,
             "ticks": ""
            },
            "colorscale": [
             [
              0,
              "#0d0887"
             ],
             [
              0.1111111111111111,
              "#46039f"
             ],
             [
              0.2222222222222222,
              "#7201a8"
             ],
             [
              0.3333333333333333,
              "#9c179e"
             ],
             [
              0.4444444444444444,
              "#bd3786"
             ],
             [
              0.5555555555555556,
              "#d8576b"
             ],
             [
              0.6666666666666666,
              "#ed7953"
             ],
             [
              0.7777777777777778,
              "#fb9f3a"
             ],
             [
              0.8888888888888888,
              "#fdca26"
             ],
             [
              1,
              "#f0f921"
             ]
            ],
            "type": "surface"
           }
          ],
          "table": [
           {
            "cells": {
             "fill": {
              "color": "#EBF0F8"
             },
             "line": {
              "color": "white"
             }
            },
            "header": {
             "fill": {
              "color": "#C8D4E3"
             },
             "line": {
              "color": "white"
             }
            },
            "type": "table"
           }
          ]
         },
         "layout": {
          "annotationdefaults": {
           "arrowcolor": "#2a3f5f",
           "arrowhead": 0,
           "arrowwidth": 1
          },
          "autotypenumbers": "strict",
          "coloraxis": {
           "colorbar": {
            "outlinewidth": 0,
            "ticks": ""
           }
          },
          "colorscale": {
           "diverging": [
            [
             0,
             "#8e0152"
            ],
            [
             0.1,
             "#c51b7d"
            ],
            [
             0.2,
             "#de77ae"
            ],
            [
             0.3,
             "#f1b6da"
            ],
            [
             0.4,
             "#fde0ef"
            ],
            [
             0.5,
             "#f7f7f7"
            ],
            [
             0.6,
             "#e6f5d0"
            ],
            [
             0.7,
             "#b8e186"
            ],
            [
             0.8,
             "#7fbc41"
            ],
            [
             0.9,
             "#4d9221"
            ],
            [
             1,
             "#276419"
            ]
           ],
           "sequential": [
            [
             0,
             "#0d0887"
            ],
            [
             0.1111111111111111,
             "#46039f"
            ],
            [
             0.2222222222222222,
             "#7201a8"
            ],
            [
             0.3333333333333333,
             "#9c179e"
            ],
            [
             0.4444444444444444,
             "#bd3786"
            ],
            [
             0.5555555555555556,
             "#d8576b"
            ],
            [
             0.6666666666666666,
             "#ed7953"
            ],
            [
             0.7777777777777778,
             "#fb9f3a"
            ],
            [
             0.8888888888888888,
             "#fdca26"
            ],
            [
             1,
             "#f0f921"
            ]
           ],
           "sequentialminus": [
            [
             0,
             "#0d0887"
            ],
            [
             0.1111111111111111,
             "#46039f"
            ],
            [
             0.2222222222222222,
             "#7201a8"
            ],
            [
             0.3333333333333333,
             "#9c179e"
            ],
            [
             0.4444444444444444,
             "#bd3786"
            ],
            [
             0.5555555555555556,
             "#d8576b"
            ],
            [
             0.6666666666666666,
             "#ed7953"
            ],
            [
             0.7777777777777778,
             "#fb9f3a"
            ],
            [
             0.8888888888888888,
             "#fdca26"
            ],
            [
             1,
             "#f0f921"
            ]
           ]
          },
          "colorway": [
           "#636efa",
           "#EF553B",
           "#00cc96",
           "#ab63fa",
           "#FFA15A",
           "#19d3f3",
           "#FF6692",
           "#B6E880",
           "#FF97FF",
           "#FECB52"
          ],
          "font": {
           "color": "#2a3f5f"
          },
          "geo": {
           "bgcolor": "white",
           "lakecolor": "white",
           "landcolor": "#E5ECF6",
           "showlakes": true,
           "showland": true,
           "subunitcolor": "white"
          },
          "hoverlabel": {
           "align": "left"
          },
          "hovermode": "closest",
          "mapbox": {
           "style": "light"
          },
          "paper_bgcolor": "white",
          "plot_bgcolor": "#E5ECF6",
          "polar": {
           "angularaxis": {
            "gridcolor": "white",
            "linecolor": "white",
            "ticks": ""
           },
           "bgcolor": "#E5ECF6",
           "radialaxis": {
            "gridcolor": "white",
            "linecolor": "white",
            "ticks": ""
           }
          },
          "scene": {
           "xaxis": {
            "backgroundcolor": "#E5ECF6",
            "gridcolor": "white",
            "gridwidth": 2,
            "linecolor": "white",
            "showbackground": true,
            "ticks": "",
            "zerolinecolor": "white"
           },
           "yaxis": {
            "backgroundcolor": "#E5ECF6",
            "gridcolor": "white",
            "gridwidth": 2,
            "linecolor": "white",
            "showbackground": true,
            "ticks": "",
            "zerolinecolor": "white"
           },
           "zaxis": {
            "backgroundcolor": "#E5ECF6",
            "gridcolor": "white",
            "gridwidth": 2,
            "linecolor": "white",
            "showbackground": true,
            "ticks": "",
            "zerolinecolor": "white"
           }
          },
          "shapedefaults": {
           "line": {
            "color": "#2a3f5f"
           }
          },
          "ternary": {
           "aaxis": {
            "gridcolor": "white",
            "linecolor": "white",
            "ticks": ""
           },
           "baxis": {
            "gridcolor": "white",
            "linecolor": "white",
            "ticks": ""
           },
           "bgcolor": "#E5ECF6",
           "caxis": {
            "gridcolor": "white",
            "linecolor": "white",
            "ticks": ""
           }
          },
          "title": {
           "x": 0.05
          },
          "xaxis": {
           "automargin": true,
           "gridcolor": "white",
           "linecolor": "white",
           "ticks": "",
           "title": {
            "standoff": 15
           },
           "zerolinecolor": "white",
           "zerolinewidth": 2
          },
          "yaxis": {
           "automargin": true,
           "gridcolor": "white",
           "linecolor": "white",
           "ticks": "",
           "title": {
            "standoff": 15
           },
           "zerolinecolor": "white",
           "zerolinewidth": 2
          }
         }
        },
        "title": {
         "text": "Actions Value Counts"
        },
        "uniformtext": {
         "minsize": 8,
         "mode": "hide"
        },
        "width": 1000,
        "xaxis": {
         "anchor": "y",
         "domain": [
          0,
          1
         ],
         "title": {
          "text": "index"
         }
        },
        "yaxis": {
         "anchor": "x",
         "domain": [
          0,
          1
         ],
         "title": {
          "text": "Percentage"
         }
        }
       }
      }
     },
     "metadata": {},
     "output_type": "display_data"
    }
   ],
   "source": [
    "# plot the actions value counts (show percentage in the plot)\n",
    "fig = px.bar(actions, x=actions.index, y=actions.values, text=actions.values, labels={'x':'Action', 'y':'Percentage'})\n",
    "fig.update_traces(texttemplate='%{text:.2s}', textposition='outside')\n",
    "fig.update_layout(uniformtext_minsize=8, uniformtext_mode='hide')\n",
    "# height of 600 and width of 1000\n",
    "fig.update_layout(height=600, width=1000)\n",
    "# title\n",
    "fig.update_layout(title_text='Actions Value Counts')\n",
    "fig.show()\n"
   ]
  },
  {
   "cell_type": "code",
   "execution_count": 6,
   "metadata": {},
   "outputs": [],
   "source": [
    "# map child actions to parent actions\n",
    "actions_map = {\n",
    "    'homepage': 'homepage',\n",
    "    'blog_navigation': 'blog',\n",
    "    'heading_navigation': 'heading',\n",
    "    'simple_search': 'search',\n",
    "    'advanced_search': 'advanced_search',\n",
    "    'filtering_search_results': 'filtering_search_results',\n",
    "    'document_access': 'document',\n",
    "    'prev_page': 'pagination',\n",
    "    'next_page': 'pagination',\n",
    "    'first_page': 'pagination',\n",
    "    'chosen_page': 'pagination',\n",
    "    'revisit_document': 'revisit_document',\n",
    "    'zoom': 'engagement',\n",
    "    'to_single_page_mode': 'engagement',\n",
    "    'to_double_page_mode': 'engagement',\n",
    "    'to_vertical_page_mode': 'engagement',\n",
    "    'to_audio_page_mode': 'engagement',\n",
    "    'to_multi_page_mode': 'engagement',\n",
    "    'page_download': 'download',\n",
    "    'document_download': 'download',\n",
    "}"
   ]
  },
  {
   "cell_type": "code",
   "execution_count": 7,
   "metadata": {},
   "outputs": [],
   "source": [
    "# map actions to parent actions\n",
    "sessions['parent_action'] = sessions['action'].map(actions_map)"
   ]
  },
  {
   "cell_type": "code",
   "execution_count": 8,
   "metadata": {},
   "outputs": [
    {
     "data": {
      "text/plain": [
       "pagination                  33.783941\n",
       "search                      30.789814\n",
       "document                    21.439175\n",
       "filtering_search_results     4.605041\n",
       "download                     3.416734\n",
       "engagement                   3.228209\n",
       "blog                         0.916057\n",
       "homepage                     0.642561\n",
       "revisit_document             0.552547\n",
       "heading                      0.458309\n",
       "advanced_search              0.167612\n",
       "Name: parent_action, dtype: float64"
      ]
     },
     "execution_count": 8,
     "metadata": {},
     "output_type": "execute_result"
    }
   ],
   "source": [
    "# parent actions value counts\n",
    "parent_actions = sessions['parent_action'].value_counts(normalize=True) * 100\n",
    "parent_actions"
   ]
  },
  {
   "cell_type": "code",
   "execution_count": 9,
   "metadata": {},
   "outputs": [
    {
     "data": {
      "application/vnd.plotly.v1+json": {
       "config": {
        "plotlyServerURL": "https://plot.ly"
       },
       "data": [
        {
         "alignmentgroup": "True",
         "hovertemplate": "index=%{x}<br>Percentage=%{y}<br>text=%{text}<extra></extra>",
         "legendgroup": "",
         "marker": {
          "color": "#636efa",
          "pattern": {
           "shape": ""
          }
         },
         "name": "",
         "offsetgroup": "",
         "orientation": "v",
         "showlegend": false,
         "text": [
          33.78394147128774,
          30.789813501222657,
          21.439175438916205,
          4.605041011373767,
          3.416733510653168,
          3.2282091386852985,
          0.9160568017568765,
          0.6425609775063585,
          0.5525470063419335,
          0.45830867333284164,
          0.16761246892315174
         ],
         "textposition": "outside",
         "texttemplate": "%{text:.2s}",
         "type": "bar",
         "x": [
          "pagination",
          "search",
          "document",
          "filtering_search_results",
          "download",
          "engagement",
          "blog",
          "homepage",
          "revisit_document",
          "heading",
          "advanced_search"
         ],
         "xaxis": "x",
         "y": [
          33.78394147128774,
          30.789813501222657,
          21.439175438916205,
          4.605041011373767,
          3.416733510653168,
          3.2282091386852985,
          0.9160568017568765,
          0.6425609775063585,
          0.5525470063419335,
          0.45830867333284164,
          0.16761246892315174
         ],
         "yaxis": "y"
        }
       ],
       "layout": {
        "barmode": "relative",
        "height": 600,
        "legend": {
         "tracegroupgap": 0
        },
        "margin": {
         "t": 60
        },
        "template": {
         "data": {
          "bar": [
           {
            "error_x": {
             "color": "#2a3f5f"
            },
            "error_y": {
             "color": "#2a3f5f"
            },
            "marker": {
             "line": {
              "color": "#E5ECF6",
              "width": 0.5
             },
             "pattern": {
              "fillmode": "overlay",
              "size": 10,
              "solidity": 0.2
             }
            },
            "type": "bar"
           }
          ],
          "barpolar": [
           {
            "marker": {
             "line": {
              "color": "#E5ECF6",
              "width": 0.5
             },
             "pattern": {
              "fillmode": "overlay",
              "size": 10,
              "solidity": 0.2
             }
            },
            "type": "barpolar"
           }
          ],
          "carpet": [
           {
            "aaxis": {
             "endlinecolor": "#2a3f5f",
             "gridcolor": "white",
             "linecolor": "white",
             "minorgridcolor": "white",
             "startlinecolor": "#2a3f5f"
            },
            "baxis": {
             "endlinecolor": "#2a3f5f",
             "gridcolor": "white",
             "linecolor": "white",
             "minorgridcolor": "white",
             "startlinecolor": "#2a3f5f"
            },
            "type": "carpet"
           }
          ],
          "choropleth": [
           {
            "colorbar": {
             "outlinewidth": 0,
             "ticks": ""
            },
            "type": "choropleth"
           }
          ],
          "contour": [
           {
            "colorbar": {
             "outlinewidth": 0,
             "ticks": ""
            },
            "colorscale": [
             [
              0,
              "#0d0887"
             ],
             [
              0.1111111111111111,
              "#46039f"
             ],
             [
              0.2222222222222222,
              "#7201a8"
             ],
             [
              0.3333333333333333,
              "#9c179e"
             ],
             [
              0.4444444444444444,
              "#bd3786"
             ],
             [
              0.5555555555555556,
              "#d8576b"
             ],
             [
              0.6666666666666666,
              "#ed7953"
             ],
             [
              0.7777777777777778,
              "#fb9f3a"
             ],
             [
              0.8888888888888888,
              "#fdca26"
             ],
             [
              1,
              "#f0f921"
             ]
            ],
            "type": "contour"
           }
          ],
          "contourcarpet": [
           {
            "colorbar": {
             "outlinewidth": 0,
             "ticks": ""
            },
            "type": "contourcarpet"
           }
          ],
          "heatmap": [
           {
            "colorbar": {
             "outlinewidth": 0,
             "ticks": ""
            },
            "colorscale": [
             [
              0,
              "#0d0887"
             ],
             [
              0.1111111111111111,
              "#46039f"
             ],
             [
              0.2222222222222222,
              "#7201a8"
             ],
             [
              0.3333333333333333,
              "#9c179e"
             ],
             [
              0.4444444444444444,
              "#bd3786"
             ],
             [
              0.5555555555555556,
              "#d8576b"
             ],
             [
              0.6666666666666666,
              "#ed7953"
             ],
             [
              0.7777777777777778,
              "#fb9f3a"
             ],
             [
              0.8888888888888888,
              "#fdca26"
             ],
             [
              1,
              "#f0f921"
             ]
            ],
            "type": "heatmap"
           }
          ],
          "heatmapgl": [
           {
            "colorbar": {
             "outlinewidth": 0,
             "ticks": ""
            },
            "colorscale": [
             [
              0,
              "#0d0887"
             ],
             [
              0.1111111111111111,
              "#46039f"
             ],
             [
              0.2222222222222222,
              "#7201a8"
             ],
             [
              0.3333333333333333,
              "#9c179e"
             ],
             [
              0.4444444444444444,
              "#bd3786"
             ],
             [
              0.5555555555555556,
              "#d8576b"
             ],
             [
              0.6666666666666666,
              "#ed7953"
             ],
             [
              0.7777777777777778,
              "#fb9f3a"
             ],
             [
              0.8888888888888888,
              "#fdca26"
             ],
             [
              1,
              "#f0f921"
             ]
            ],
            "type": "heatmapgl"
           }
          ],
          "histogram": [
           {
            "marker": {
             "pattern": {
              "fillmode": "overlay",
              "size": 10,
              "solidity": 0.2
             }
            },
            "type": "histogram"
           }
          ],
          "histogram2d": [
           {
            "colorbar": {
             "outlinewidth": 0,
             "ticks": ""
            },
            "colorscale": [
             [
              0,
              "#0d0887"
             ],
             [
              0.1111111111111111,
              "#46039f"
             ],
             [
              0.2222222222222222,
              "#7201a8"
             ],
             [
              0.3333333333333333,
              "#9c179e"
             ],
             [
              0.4444444444444444,
              "#bd3786"
             ],
             [
              0.5555555555555556,
              "#d8576b"
             ],
             [
              0.6666666666666666,
              "#ed7953"
             ],
             [
              0.7777777777777778,
              "#fb9f3a"
             ],
             [
              0.8888888888888888,
              "#fdca26"
             ],
             [
              1,
              "#f0f921"
             ]
            ],
            "type": "histogram2d"
           }
          ],
          "histogram2dcontour": [
           {
            "colorbar": {
             "outlinewidth": 0,
             "ticks": ""
            },
            "colorscale": [
             [
              0,
              "#0d0887"
             ],
             [
              0.1111111111111111,
              "#46039f"
             ],
             [
              0.2222222222222222,
              "#7201a8"
             ],
             [
              0.3333333333333333,
              "#9c179e"
             ],
             [
              0.4444444444444444,
              "#bd3786"
             ],
             [
              0.5555555555555556,
              "#d8576b"
             ],
             [
              0.6666666666666666,
              "#ed7953"
             ],
             [
              0.7777777777777778,
              "#fb9f3a"
             ],
             [
              0.8888888888888888,
              "#fdca26"
             ],
             [
              1,
              "#f0f921"
             ]
            ],
            "type": "histogram2dcontour"
           }
          ],
          "mesh3d": [
           {
            "colorbar": {
             "outlinewidth": 0,
             "ticks": ""
            },
            "type": "mesh3d"
           }
          ],
          "parcoords": [
           {
            "line": {
             "colorbar": {
              "outlinewidth": 0,
              "ticks": ""
             }
            },
            "type": "parcoords"
           }
          ],
          "pie": [
           {
            "automargin": true,
            "type": "pie"
           }
          ],
          "scatter": [
           {
            "fillpattern": {
             "fillmode": "overlay",
             "size": 10,
             "solidity": 0.2
            },
            "type": "scatter"
           }
          ],
          "scatter3d": [
           {
            "line": {
             "colorbar": {
              "outlinewidth": 0,
              "ticks": ""
             }
            },
            "marker": {
             "colorbar": {
              "outlinewidth": 0,
              "ticks": ""
             }
            },
            "type": "scatter3d"
           }
          ],
          "scattercarpet": [
           {
            "marker": {
             "colorbar": {
              "outlinewidth": 0,
              "ticks": ""
             }
            },
            "type": "scattercarpet"
           }
          ],
          "scattergeo": [
           {
            "marker": {
             "colorbar": {
              "outlinewidth": 0,
              "ticks": ""
             }
            },
            "type": "scattergeo"
           }
          ],
          "scattergl": [
           {
            "marker": {
             "colorbar": {
              "outlinewidth": 0,
              "ticks": ""
             }
            },
            "type": "scattergl"
           }
          ],
          "scattermapbox": [
           {
            "marker": {
             "colorbar": {
              "outlinewidth": 0,
              "ticks": ""
             }
            },
            "type": "scattermapbox"
           }
          ],
          "scatterpolar": [
           {
            "marker": {
             "colorbar": {
              "outlinewidth": 0,
              "ticks": ""
             }
            },
            "type": "scatterpolar"
           }
          ],
          "scatterpolargl": [
           {
            "marker": {
             "colorbar": {
              "outlinewidth": 0,
              "ticks": ""
             }
            },
            "type": "scatterpolargl"
           }
          ],
          "scatterternary": [
           {
            "marker": {
             "colorbar": {
              "outlinewidth": 0,
              "ticks": ""
             }
            },
            "type": "scatterternary"
           }
          ],
          "surface": [
           {
            "colorbar": {
             "outlinewidth": 0,
             "ticks": ""
            },
            "colorscale": [
             [
              0,
              "#0d0887"
             ],
             [
              0.1111111111111111,
              "#46039f"
             ],
             [
              0.2222222222222222,
              "#7201a8"
             ],
             [
              0.3333333333333333,
              "#9c179e"
             ],
             [
              0.4444444444444444,
              "#bd3786"
             ],
             [
              0.5555555555555556,
              "#d8576b"
             ],
             [
              0.6666666666666666,
              "#ed7953"
             ],
             [
              0.7777777777777778,
              "#fb9f3a"
             ],
             [
              0.8888888888888888,
              "#fdca26"
             ],
             [
              1,
              "#f0f921"
             ]
            ],
            "type": "surface"
           }
          ],
          "table": [
           {
            "cells": {
             "fill": {
              "color": "#EBF0F8"
             },
             "line": {
              "color": "white"
             }
            },
            "header": {
             "fill": {
              "color": "#C8D4E3"
             },
             "line": {
              "color": "white"
             }
            },
            "type": "table"
           }
          ]
         },
         "layout": {
          "annotationdefaults": {
           "arrowcolor": "#2a3f5f",
           "arrowhead": 0,
           "arrowwidth": 1
          },
          "autotypenumbers": "strict",
          "coloraxis": {
           "colorbar": {
            "outlinewidth": 0,
            "ticks": ""
           }
          },
          "colorscale": {
           "diverging": [
            [
             0,
             "#8e0152"
            ],
            [
             0.1,
             "#c51b7d"
            ],
            [
             0.2,
             "#de77ae"
            ],
            [
             0.3,
             "#f1b6da"
            ],
            [
             0.4,
             "#fde0ef"
            ],
            [
             0.5,
             "#f7f7f7"
            ],
            [
             0.6,
             "#e6f5d0"
            ],
            [
             0.7,
             "#b8e186"
            ],
            [
             0.8,
             "#7fbc41"
            ],
            [
             0.9,
             "#4d9221"
            ],
            [
             1,
             "#276419"
            ]
           ],
           "sequential": [
            [
             0,
             "#0d0887"
            ],
            [
             0.1111111111111111,
             "#46039f"
            ],
            [
             0.2222222222222222,
             "#7201a8"
            ],
            [
             0.3333333333333333,
             "#9c179e"
            ],
            [
             0.4444444444444444,
             "#bd3786"
            ],
            [
             0.5555555555555556,
             "#d8576b"
            ],
            [
             0.6666666666666666,
             "#ed7953"
            ],
            [
             0.7777777777777778,
             "#fb9f3a"
            ],
            [
             0.8888888888888888,
             "#fdca26"
            ],
            [
             1,
             "#f0f921"
            ]
           ],
           "sequentialminus": [
            [
             0,
             "#0d0887"
            ],
            [
             0.1111111111111111,
             "#46039f"
            ],
            [
             0.2222222222222222,
             "#7201a8"
            ],
            [
             0.3333333333333333,
             "#9c179e"
            ],
            [
             0.4444444444444444,
             "#bd3786"
            ],
            [
             0.5555555555555556,
             "#d8576b"
            ],
            [
             0.6666666666666666,
             "#ed7953"
            ],
            [
             0.7777777777777778,
             "#fb9f3a"
            ],
            [
             0.8888888888888888,
             "#fdca26"
            ],
            [
             1,
             "#f0f921"
            ]
           ]
          },
          "colorway": [
           "#636efa",
           "#EF553B",
           "#00cc96",
           "#ab63fa",
           "#FFA15A",
           "#19d3f3",
           "#FF6692",
           "#B6E880",
           "#FF97FF",
           "#FECB52"
          ],
          "font": {
           "color": "#2a3f5f"
          },
          "geo": {
           "bgcolor": "white",
           "lakecolor": "white",
           "landcolor": "#E5ECF6",
           "showlakes": true,
           "showland": true,
           "subunitcolor": "white"
          },
          "hoverlabel": {
           "align": "left"
          },
          "hovermode": "closest",
          "mapbox": {
           "style": "light"
          },
          "paper_bgcolor": "white",
          "plot_bgcolor": "#E5ECF6",
          "polar": {
           "angularaxis": {
            "gridcolor": "white",
            "linecolor": "white",
            "ticks": ""
           },
           "bgcolor": "#E5ECF6",
           "radialaxis": {
            "gridcolor": "white",
            "linecolor": "white",
            "ticks": ""
           }
          },
          "scene": {
           "xaxis": {
            "backgroundcolor": "#E5ECF6",
            "gridcolor": "white",
            "gridwidth": 2,
            "linecolor": "white",
            "showbackground": true,
            "ticks": "",
            "zerolinecolor": "white"
           },
           "yaxis": {
            "backgroundcolor": "#E5ECF6",
            "gridcolor": "white",
            "gridwidth": 2,
            "linecolor": "white",
            "showbackground": true,
            "ticks": "",
            "zerolinecolor": "white"
           },
           "zaxis": {
            "backgroundcolor": "#E5ECF6",
            "gridcolor": "white",
            "gridwidth": 2,
            "linecolor": "white",
            "showbackground": true,
            "ticks": "",
            "zerolinecolor": "white"
           }
          },
          "shapedefaults": {
           "line": {
            "color": "#2a3f5f"
           }
          },
          "ternary": {
           "aaxis": {
            "gridcolor": "white",
            "linecolor": "white",
            "ticks": ""
           },
           "baxis": {
            "gridcolor": "white",
            "linecolor": "white",
            "ticks": ""
           },
           "bgcolor": "#E5ECF6",
           "caxis": {
            "gridcolor": "white",
            "linecolor": "white",
            "ticks": ""
           }
          },
          "title": {
           "x": 0.05
          },
          "xaxis": {
           "automargin": true,
           "gridcolor": "white",
           "linecolor": "white",
           "ticks": "",
           "title": {
            "standoff": 15
           },
           "zerolinecolor": "white",
           "zerolinewidth": 2
          },
          "yaxis": {
           "automargin": true,
           "gridcolor": "white",
           "linecolor": "white",
           "ticks": "",
           "title": {
            "standoff": 15
           },
           "zerolinecolor": "white",
           "zerolinewidth": 2
          }
         }
        },
        "title": {
         "text": "Parent Actions Value Counts "
        },
        "uniformtext": {
         "minsize": 8,
         "mode": "hide"
        },
        "width": 1000,
        "xaxis": {
         "anchor": "y",
         "domain": [
          0,
          1
         ],
         "title": {
          "text": "index"
         }
        },
        "yaxis": {
         "anchor": "x",
         "domain": [
          0,
          1
         ],
         "title": {
          "text": "Percentage"
         }
        }
       }
      }
     },
     "metadata": {},
     "output_type": "display_data"
    }
   ],
   "source": [
    "# plot the parent actions value counts (show percentage in the plot)\n",
    "fig = px.bar(parent_actions, x=parent_actions.index, y=parent_actions.values, text=parent_actions.values, labels={'x':'Action', 'y':'Percentage'})\n",
    "fig.update_traces(texttemplate='%{text:.2s}', textposition='outside')\n",
    "fig.update_layout(uniformtext_minsize=8, uniformtext_mode='hide')\n",
    "# height of 600 and width of 1000\n",
    "fig.update_layout(height=600, width=1000)\n",
    "# title\n",
    "fig.update_layout(title_text='Parent Actions Value Counts ')\n",
    "fig.show()"
   ]
  },
  {
   "cell_type": "code",
   "execution_count": 10,
   "metadata": {},
   "outputs": [],
   "source": [
    "# Calculate the number of actions per session\n",
    "actions_per_session = sessions.groupby(\n",
    "    'session_id')['action'].count().reset_index(name='actions_per_session')\n",
    "sessions['sequence_length'] = sessions['session_id'].map(\n",
    "    actions_per_session.set_index('session_id')['actions_per_session'])"
   ]
  },
  {
   "cell_type": "code",
   "execution_count": 11,
   "metadata": {},
   "outputs": [
    {
     "name": "stdout",
     "output_type": "stream",
     "text": [
      "count    622958.000000\n",
      "mean         67.297461\n",
      "std         322.950102\n",
      "min           1.000000\n",
      "0%            1.000000\n",
      "5%            4.000000\n",
      "10%           5.000000\n",
      "15%           6.000000\n",
      "20%           8.000000\n",
      "25%           9.000000\n",
      "30%          11.000000\n",
      "35%          13.000000\n",
      "40%          16.000000\n",
      "45%          19.000000\n",
      "50%          22.000000\n",
      "55%          27.000000\n",
      "60%          32.000000\n",
      "65%          39.000000\n",
      "70%          48.000000\n",
      "75%          60.000000\n",
      "80%          77.000000\n",
      "85%         102.000000\n",
      "90%         144.000000\n",
      "95%         230.000000\n",
      "max       37415.000000\n",
      "Name: actions_per_session, dtype: float64\n"
     ]
    },
    {
     "data": {
      "image/png": "[encoded data removed]",
      "text/plain": [
       "<Figure size 1440x864 with 1 Axes>"
      ]
     },
     "metadata": {
      "needs_background": "light"
     },
     "output_type": "display_data"
    }
   ],
   "source": [
    "percentiles = np.arange(0, 1, 0.05)\n",
    "# Create a histogram plot with Seaborn (freq = True)\n",
    "sns.displot(actions_per_session, x=\"actions_per_session\",\n",
    "            bins=50, log_scale=(True, False), kde=True, stat=\"density\")\n",
    "# height of 600 and width of 1000\n",
    "plt.gcf().set_size_inches(20, 12)\n",
    "# title\n",
    "plt.title('Number of actions per session Histogram')\n",
    "\n",
    "# Print statistics using pandas describe method\n",
    "print(actions_per_session[\"actions_per_session\"].describe(\n",
    "    percentiles=percentiles))"
   ]
  },
  {
   "cell_type": "code",
   "execution_count": 12,
   "metadata": {},
   "outputs": [
    {
     "data": {
      "application/vnd.plotly.v1+json": {
       "config": {
        "plotlyServerURL": "https://plot.ly"
       },
       "data": [
        {
         "hovertemplate": "date=%{x}<br>sessions_per_day=%{y}<extra></extra>",
         "legendgroup": "",
         "line": {
          "color": "#636efa",
          "dash": "solid"
         },
         "marker": {
          "symbol": "circle"
         },
         "mode": "lines",
         "name": "",
         "orientation": "v",
         "showlegend": false,
         "type": "scatter",
         "x": [
          "2016-01-31",
          "2016-02-01",
          "2016-02-02",
          "2016-02-03",
          "2016-02-04",
          "2016-02-05",
          "2016-02-06",
          "2016-02-07",
          "2016-02-08",
          "2016-02-09",
          "2016-02-10",
          "2016-02-11",
          "2016-02-12",
          "2016-02-13",
          "2016-02-14",
          "2016-02-15",
          "2016-02-16",
          "2016-02-17",
          "2016-02-18",
          "2016-02-19",
          "2016-02-20",
          "2016-02-21",
          "2016-02-22",
          "2016-02-23",
          "2016-02-24",
          "2016-02-25",
          "2016-02-26",
          "2016-02-27",
          "2016-02-28",
          "2016-02-29",
          "2016-03-01",
          "2016-03-02",
          "2016-03-03",
          "2016-03-04",
          "2016-03-05",
          "2016-03-06",
          "2016-03-07",
          "2016-03-08",
          "2016-03-09",
          "2016-03-10",
          "2016-03-11",
          "2016-03-12",
          "2016-03-13",
          "2016-03-14",
          "2016-03-15",
          "2016-03-16",
          "2016-03-17",
          "2016-03-18",
          "2016-03-19",
          "2016-03-20",
          "2016-03-21",
          "2016-03-22",
          "2016-03-23",
          "2016-03-24",
          "2016-03-25",
          "2016-03-26",
          "2016-03-27",
          "2016-03-28",
          "2016-03-29",
          "2016-03-30",
          "2016-03-31",
          "2016-04-01",
          "2016-04-02",
          "2016-04-03",
          "2016-04-04",
          "2016-04-05",
          "2016-04-06"
         ],
         "xaxis": "x",
         "y": [
          10081,
          14030,
          16325,
          13254,
          11486,
          11596,
          13362,
          10992,
          17811,
          9308,
          15577,
          13161,
          8093,
          9963,
          8774,
          8552,
          11346,
          17595,
          14488,
          12625,
          13561,
          12698,
          12677,
          11479,
          9487,
          14278,
          6712,
          11677,
          11609,
          12854,
          7628,
          9492,
          10350,
          11843,
          17169,
          16658,
          14530,
          7584,
          15646,
          24831,
          14792,
          21259,
          13711,
          3306,
          3904,
          3828,
          3529,
          3221,
          3426,
          3713,
          3848,
          3894,
          3722,
          3617,
          3229,
          3203,
          4065,
          4348,
          4162,
          4262,
          4042,
          3611,
          3656,
          3841,
          4137,
          3734,
          1215
         ],
         "yaxis": "y"
        }
       ],
       "layout": {
        "height": 800,
        "legend": {
         "tracegroupgap": 0
        },
        "template": {
         "data": {
          "bar": [
           {
            "error_x": {
             "color": "#2a3f5f"
            },
            "error_y": {
             "color": "#2a3f5f"
            },
            "marker": {
             "line": {
              "color": "#E5ECF6",
              "width": 0.5
             },
             "pattern": {
              "fillmode": "overlay",
              "size": 10,
              "solidity": 0.2
             }
            },
            "type": "bar"
           }
          ],
          "barpolar": [
           {
            "marker": {
             "line": {
              "color": "#E5ECF6",
              "width": 0.5
             },
             "pattern": {
              "fillmode": "overlay",
              "size": 10,
              "solidity": 0.2
             }
            },
            "type": "barpolar"
           }
          ],
          "carpet": [
           {
            "aaxis": {
             "endlinecolor": "#2a3f5f",
             "gridcolor": "white",
             "linecolor": "white",
             "minorgridcolor": "white",
             "startlinecolor": "#2a3f5f"
            },
            "baxis": {
             "endlinecolor": "#2a3f5f",
             "gridcolor": "white",
             "linecolor": "white",
             "minorgridcolor": "white",
             "startlinecolor": "#2a3f5f"
            },
            "type": "carpet"
           }
          ],
          "choropleth": [
           {
            "colorbar": {
             "outlinewidth": 0,
             "ticks": ""
            },
            "type": "choropleth"
           }
          ],
          "contour": [
           {
            "colorbar": {
             "outlinewidth": 0,
             "ticks": ""
            },
            "colorscale": [
             [
              0,
              "#0d0887"
             ],
             [
              0.1111111111111111,
              "#46039f"
             ],
             [
              0.2222222222222222,
              "#7201a8"
             ],
             [
              0.3333333333333333,
              "#9c179e"
             ],
             [
              0.4444444444444444,
              "#bd3786"
             ],
             [
              0.5555555555555556,
              "#d8576b"
             ],
             [
              0.6666666666666666,
              "#ed7953"
             ],
             [
              0.7777777777777778,
              "#fb9f3a"
             ],
             [
              0.8888888888888888,
              "#fdca26"
             ],
             [
              1,
              "#f0f921"
             ]
            ],
            "type": "contour"
           }
          ],
          "contourcarpet": [
           {
            "colorbar": {
             "outlinewidth": 0,
             "ticks": ""
            },
            "type": "contourcarpet"
           }
          ],
          "heatmap": [
           {
            "colorbar": {
             "outlinewidth": 0,
             "ticks": ""
            },
            "colorscale": [
             [
              0,
              "#0d0887"
             ],
             [
              0.1111111111111111,
              "#46039f"
             ],
             [
              0.2222222222222222,
              "#7201a8"
             ],
             [
              0.3333333333333333,
              "#9c179e"
             ],
             [
              0.4444444444444444,
              "#bd3786"
             ],
             [
              0.5555555555555556,
              "#d8576b"
             ],
             [
              0.6666666666666666,
              "#ed7953"
             ],
             [
              0.7777777777777778,
              "#fb9f3a"
             ],
             [
              0.8888888888888888,
              "#fdca26"
             ],
             [
              1,
              "#f0f921"
             ]
            ],
            "type": "heatmap"
           }
          ],
          "heatmapgl": [
           {
            "colorbar": {
             "outlinewidth": 0,
             "ticks": ""
            },
            "colorscale": [
             [
              0,
              "#0d0887"
             ],
             [
              0.1111111111111111,
              "#46039f"
             ],
             [
              0.2222222222222222,
              "#7201a8"
             ],
             [
              0.3333333333333333,
              "#9c179e"
             ],
             [
              0.4444444444444444,
              "#bd3786"
             ],
             [
              0.5555555555555556,
              "#d8576b"
             ],
             [
              0.6666666666666666,
              "#ed7953"
             ],
             [
              0.7777777777777778,
              "#fb9f3a"
             ],
             [
              0.8888888888888888,
              "#fdca26"
             ],
             [
              1,
              "#f0f921"
             ]
            ],
            "type": "heatmapgl"
           }
          ],
          "histogram": [
           {
            "marker": {
             "pattern": {
              "fillmode": "overlay",
              "size": 10,
              "solidity": 0.2
             }
            },
            "type": "histogram"
           }
          ],
          "histogram2d": [
           {
            "colorbar": {
             "outlinewidth": 0,
             "ticks": ""
            },
            "colorscale": [
             [
              0,
              "#0d0887"
             ],
             [
              0.1111111111111111,
              "#46039f"
             ],
             [
              0.2222222222222222,
              "#7201a8"
             ],
             [
              0.3333333333333333,
              "#9c179e"
             ],
             [
              0.4444444444444444,
              "#bd3786"
             ],
             [
              0.5555555555555556,
              "#d8576b"
             ],
             [
              0.6666666666666666,
              "#ed7953"
             ],
             [
              0.7777777777777778,
              "#fb9f3a"
             ],
             [
              0.8888888888888888,
              "#fdca26"
             ],
             [
              1,
              "#f0f921"
             ]
            ],
            "type": "histogram2d"
           }
          ],
          "histogram2dcontour": [
           {
            "colorbar": {
             "outlinewidth": 0,
             "ticks": ""
            },
            "colorscale": [
             [
              0,
              "#0d0887"
             ],
             [
              0.1111111111111111,
              "#46039f"
             ],
             [
              0.2222222222222222,
              "#7201a8"
             ],
             [
              0.3333333333333333,
              "#9c179e"
             ],
             [
              0.4444444444444444,
              "#bd3786"
             ],
             [
              0.5555555555555556,
              "#d8576b"
             ],
             [
              0.6666666666666666,
              "#ed7953"
             ],
             [
              0.7777777777777778,
              "#fb9f3a"
             ],
             [
              0.8888888888888888,
              "#fdca26"
             ],
             [
              1,
              "#f0f921"
             ]
            ],
            "type": "histogram2dcontour"
           }
          ],
          "mesh3d": [
           {
            "colorbar": {
             "outlinewidth": 0,
             "ticks": ""
            },
            "type": "mesh3d"
           }
          ],
          "parcoords": [
           {
            "line": {
             "colorbar": {
              "outlinewidth": 0,
              "ticks": ""
             }
            },
            "type": "parcoords"
           }
          ],
          "pie": [
           {
            "automargin": true,
            "type": "pie"
           }
          ],
          "scatter": [
           {
            "fillpattern": {
             "fillmode": "overlay",
             "size": 10,
             "solidity": 0.2
            },
            "type": "scatter"
           }
          ],
          "scatter3d": [
           {
            "line": {
             "colorbar": {
              "outlinewidth": 0,
              "ticks": ""
             }
            },
            "marker": {
             "colorbar": {
              "outlinewidth": 0,
              "ticks": ""
             }
            },
            "type": "scatter3d"
           }
          ],
          "scattercarpet": [
           {
            "marker": {
             "colorbar": {
              "outlinewidth": 0,
              "ticks": ""
             }
            },
            "type": "scattercarpet"
           }
          ],
          "scattergeo": [
           {
            "marker": {
             "colorbar": {
              "outlinewidth": 0,
              "ticks": ""
             }
            },
            "type": "scattergeo"
           }
          ],
          "scattergl": [
           {
            "marker": {
             "colorbar": {
              "outlinewidth": 0,
              "ticks": ""
             }
            },
            "type": "scattergl"
           }
          ],
          "scattermapbox": [
           {
            "marker": {
             "colorbar": {
              "outlinewidth": 0,
              "ticks": ""
             }
            },
            "type": "scattermapbox"
           }
          ],
          "scatterpolar": [
           {
            "marker": {
             "colorbar": {
              "outlinewidth": 0,
              "ticks": ""
             }
            },
            "type": "scatterpolar"
           }
          ],
          "scatterpolargl": [
           {
            "marker": {
             "colorbar": {
              "outlinewidth": 0,
              "ticks": ""
             }
            },
            "type": "scatterpolargl"
           }
          ],
          "scatterternary": [
           {
            "marker": {
             "colorbar": {
              "outlinewidth": 0,
              "ticks": ""
             }
            },
            "type": "scatterternary"
           }
          ],
          "surface": [
           {
            "colorbar": {
             "outlinewidth": 0,
             "ticks": ""
            },
            "colorscale": [
             [
              0,
              "#0d0887"
             ],
             [
              0.1111111111111111,
              "#46039f"
             ],
             [
              0.2222222222222222,
              "#7201a8"
             ],
             [
              0.3333333333333333,
              "#9c179e"
             ],
             [
              0.4444444444444444,
              "#bd3786"
             ],
             [
              0.5555555555555556,
              "#d8576b"
             ],
             [
              0.6666666666666666,
              "#ed7953"
             ],
             [
              0.7777777777777778,
              "#fb9f3a"
             ],
             [
              0.8888888888888888,
              "#fdca26"
             ],
             [
              1,
              "#f0f921"
             ]
            ],
            "type": "surface"
           }
          ],
          "table": [
           {
            "cells": {
             "fill": {
              "color": "#EBF0F8"
             },
             "line": {
              "color": "white"
             }
            },
            "header": {
             "fill": {
              "color": "#C8D4E3"
             },
             "line": {
              "color": "white"
             }
            },
            "type": "table"
           }
          ]
         },
         "layout": {
          "annotationdefaults": {
           "arrowcolor": "#2a3f5f",
           "arrowhead": 0,
           "arrowwidth": 1
          },
          "autotypenumbers": "strict",
          "coloraxis": {
           "colorbar": {
            "outlinewidth": 0,
            "ticks": ""
           }
          },
          "colorscale": {
           "diverging": [
            [
             0,
             "#8e0152"
            ],
            [
             0.1,
             "#c51b7d"
            ],
            [
             0.2,
             "#de77ae"
            ],
            [
             0.3,
             "#f1b6da"
            ],
            [
             0.4,
             "#fde0ef"
            ],
            [
             0.5,
             "#f7f7f7"
            ],
            [
             0.6,
             "#e6f5d0"
            ],
            [
             0.7,
             "#b8e186"
            ],
            [
             0.8,
             "#7fbc41"
            ],
            [
             0.9,
             "#4d9221"
            ],
            [
             1,
             "#276419"
            ]
           ],
           "sequential": [
            [
             0,
             "#0d0887"
            ],
            [
             0.1111111111111111,
             "#46039f"
            ],
            [
             0.2222222222222222,
             "#7201a8"
            ],
            [
             0.3333333333333333,
             "#9c179e"
            ],
            [
             0.4444444444444444,
             "#bd3786"
            ],
            [
             0.5555555555555556,
             "#d8576b"
            ],
            [
             0.6666666666666666,
             "#ed7953"
            ],
            [
             0.7777777777777778,
             "#fb9f3a"
            ],
            [
             0.8888888888888888,
             "#fdca26"
            ],
            [
             1,
             "#f0f921"
            ]
           ],
           "sequentialminus": [
            [
             0,
             "#0d0887"
            ],
            [
             0.1111111111111111,
             "#46039f"
            ],
            [
             0.2222222222222222,
             "#7201a8"
            ],
            [
             0.3333333333333333,
             "#9c179e"
            ],
            [
             0.4444444444444444,
             "#bd3786"
            ],
            [
             0.5555555555555556,
             "#d8576b"
            ],
            [
             0.6666666666666666,
             "#ed7953"
            ],
            [
             0.7777777777777778,
             "#fb9f3a"
            ],
            [
             0.8888888888888888,
             "#fdca26"
            ],
            [
             1,
             "#f0f921"
            ]
           ]
          },
          "colorway": [
           "#636efa",
           "#EF553B",
           "#00cc96",
           "#ab63fa",
           "#FFA15A",
           "#19d3f3",
           "#FF6692",
           "#B6E880",
           "#FF97FF",
           "#FECB52"
          ],
          "font": {
           "color": "#2a3f5f"
          },
          "geo": {
           "bgcolor": "white",
           "lakecolor": "white",
           "landcolor": "#E5ECF6",
           "showlakes": true,
           "showland": true,
           "subunitcolor": "white"
          },
          "hoverlabel": {
           "align": "left"
          },
          "hovermode": "closest",
          "mapbox": {
           "style": "light"
          },
          "paper_bgcolor": "white",
          "plot_bgcolor": "#E5ECF6",
          "polar": {
           "angularaxis": {
            "gridcolor": "white",
            "linecolor": "white",
            "ticks": ""
           },
           "bgcolor": "#E5ECF6",
           "radialaxis": {
            "gridcolor": "white",
            "linecolor": "white",
            "ticks": ""
           }
          },
          "scene": {
           "xaxis": {
            "backgroundcolor": "#E5ECF6",
            "gridcolor": "white",
            "gridwidth": 2,
            "linecolor": "white",
            "showbackground": true,
            "ticks": "",
            "zerolinecolor": "white"
           },
           "yaxis": {
            "backgroundcolor": "#E5ECF6",
            "gridcolor": "white",
            "gridwidth": 2,
            "linecolor": "white",
            "showbackground": true,
            "ticks": "",
            "zerolinecolor": "white"
           },
           "zaxis": {
            "backgroundcolor": "#E5ECF6",
            "gridcolor": "white",
            "gridwidth": 2,
            "linecolor": "white",
            "showbackground": true,
            "ticks": "",
            "zerolinecolor": "white"
           }
          },
          "shapedefaults": {
           "line": {
            "color": "#2a3f5f"
           }
          },
          "ternary": {
           "aaxis": {
            "gridcolor": "white",
            "linecolor": "white",
            "ticks": ""
           },
           "baxis": {
            "gridcolor": "white",
            "linecolor": "white",
            "ticks": ""
           },
           "bgcolor": "#E5ECF6",
           "caxis": {
            "gridcolor": "white",
            "linecolor": "white",
            "ticks": ""
           }
          },
          "title": {
           "x": 0.05
          },
          "xaxis": {
           "automargin": true,
           "gridcolor": "white",
           "linecolor": "white",
           "ticks": "",
           "title": {
            "standoff": 15
           },
           "zerolinecolor": "white",
           "zerolinewidth": 2
          },
          "yaxis": {
           "automargin": true,
           "gridcolor": "white",
           "linecolor": "white",
           "ticks": "",
           "title": {
            "standoff": 15
           },
           "zerolinecolor": "white",
           "zerolinewidth": 2
          }
         }
        },
        "title": {
         "text": "Number of sessions per day"
        },
        "width": 1000,
        "xaxis": {
         "anchor": "y",
         "domain": [
          0,
          1
         ],
         "title": {
          "text": "date"
         }
        },
        "yaxis": {
         "anchor": "x",
         "domain": [
          0,
          1
         ],
         "title": {
          "text": "sessions_per_day"
         }
        }
       }
      }
     },
     "metadata": {},
     "output_type": "display_data"
    }
   ],
   "source": [
    "# plot number of sessions per day \n",
    "sessions['date'] = sessions['timestamp'].dt.date\n",
    "sessions_per_day = sessions.groupby('date')['session_id'].nunique().reset_index(name='sessions_per_day')\n",
    "fig = px.line(sessions_per_day, x=\"date\", y=\"sessions_per_day\", title='Number of sessions per day', height=800, width=1000)\n",
    "fig.show()\n",
    "\n",
    "# remove date column\n",
    "sessions = sessions.drop(columns=['date'])"
   ]
  },
  {
   "cell_type": "code",
   "execution_count": 13,
   "metadata": {},
   "outputs": [
    {
     "name": "stdout",
     "output_type": "stream",
     "text": [
      "Number of sessions:  622958\n"
     ]
    }
   ],
   "source": [
    "print(\"Number of sessions: \", sessions['session_id'].nunique())"
   ]
  },
  {
   "cell_type": "code",
   "execution_count": 14,
   "metadata": {},
   "outputs": [],
   "source": [
    "# consider only session where the number of actions is between 3 and 1000\n",
    "sessions = sessions.loc[sessions['sequence_length'].between(4, 230)]"
   ]
  },
  {
   "cell_type": "code",
   "execution_count": 15,
   "metadata": {},
   "outputs": [
    {
     "name": "stdout",
     "output_type": "stream",
     "text": [
      "Number of sessions:  563215\n"
     ]
    }
   ],
   "source": [
    "print(\"Number of sessions: \", sessions['session_id'].nunique())"
   ]
  },
  {
   "cell_type": "code",
   "execution_count": 16,
   "metadata": {},
   "outputs": [],
   "source": [
    "def plot_transition_heatmap(sessions, parent_actions=False, normlisation='line'):\n",
    "    if parent_actions:\n",
    "        sequences = sessions.groupby('session_id')['parent_action'].apply(list)\n",
    "        title = 'Transition Heatmap between parent actions'\n",
    "    else:\n",
    "        sequences = sessions.groupby('session_id')['action'].apply(list)\n",
    "        title = 'Transition Heatmap between actions'\n",
    "\n",
    "\n",
    "    # Create a list of transitions for each sequence\n",
    "    transitions = []\n",
    "    for sequence in sequences:\n",
    "        for i in range(len(sequence) - 1):\n",
    "            transitions.append((sequence[i], sequence[i + 1]))\n",
    "\n",
    "    # Create transition matrix\n",
    "    transition_matrix = pd.DataFrame(transitions, columns=['from', 'to'])\n",
    "    transition_matrix = transition_matrix.groupby(['from', 'to']).size().reset_index(name='counts')\n",
    "    transition_matrix = transition_matrix.pivot(index='from', columns='to', values='counts')\n",
    "    transition_matrix = transition_matrix.fillna(0)\n",
    "    if normlisation == 'line':\n",
    "        transition_matrix = transition_matrix.div(transition_matrix.sum(axis=1), axis=0)\n",
    "    elif normlisation == 'column':\n",
    "        transition_matrix = transition_matrix.div(transition_matrix.sum(axis=0), axis=1)\n",
    "\n",
    "    # Plot the transition heatmap\n",
    "    fig = plt.figure(figsize=(15, 13))  # Adjust the figure size as desired\n",
    "    # viridis inverted colormap\n",
    "    sns.heatmap(transition_matrix, cmap='viridis_r', annot=True, fmt='.2f', annot_kws={'size': 10})\n",
    "    \n",
    "    # Set plot title\n",
    "    plt.title(title)\n",
    "\n",
    "    # Show the plot\n",
    "    plt.show()\n"
   ]
  },
  {
   "cell_type": "code",
   "execution_count": 17,
   "metadata": {},
   "outputs": [
    {
     "data": {
      "image/png": "[encoded data removed]",
      "text/plain": [
       "<Figure size 1080x936 with 2 Axes>"
      ]
     },
     "metadata": {
      "needs_background": "light"
     },
     "output_type": "display_data"
    }
   ],
   "source": [
    "plot_transition_heatmap(sessions)"
   ]
  },
  {
   "cell_type": "code",
   "execution_count": 18,
   "metadata": {},
   "outputs": [
    {
     "data": {
      "image/png": "[encoded data removed]",
      "text/plain": [
       "<Figure size 1080x936 with 2 Axes>"
      ]
     },
     "metadata": {
      "needs_background": "light"
     },
     "output_type": "display_data"
    }
   ],
   "source": [
    "plot_transition_heatmap(sessions, parent_actions=True)"
   ]
  },
  {
   "cell_type": "code",
   "execution_count": 19,
   "metadata": {},
   "outputs": [
    {
     "data": {
      "image/png": "[encoded data removed]",
      "text/plain": [
       "<Figure size 1080x936 with 2 Axes>"
      ]
     },
     "metadata": {
      "needs_background": "light"
     },
     "output_type": "display_data"
    }
   ],
   "source": [
    "plot_transition_heatmap(sessions, normlisation='column')"
   ]
  },
  {
   "cell_type": "code",
   "execution_count": 20,
   "metadata": {},
   "outputs": [
    {
     "data": {
      "image/png": "[encoded data removed]",
      "text/plain": [
       "<Figure size 1080x936 with 2 Axes>"
      ]
     },
     "metadata": {
      "needs_background": "light"
     },
     "output_type": "display_data"
    }
   ],
   "source": [
    "plot_transition_heatmap(sessions, parent_actions=True, normlisation='column')"
   ]
  },
  {
   "attachments": {},
   "cell_type": "markdown",
   "metadata": {},
   "source": [
    "## II. Sequence encoding"
   ]
  },
  {
   "cell_type": "code",
   "execution_count": 21,
   "metadata": {},
   "outputs": [],
   "source": [
    "from sklearn.preprocessing import LabelEncoder\n",
    "from sklearn.preprocessing import OneHotEncoder\n",
    "\n",
    "# map child actions to parent actions\n",
    "actions_map = {\n",
    "    'homepage': 'homepage',\n",
    "    'blog_navigation': 'blog',\n",
    "    'heading_navigation': 'heading',\n",
    "    'simple_search': 'search',\n",
    "    'advanced_search': 'advanced_search',\n",
    "    'filtering_search_results': 'filtering_search_results',\n",
    "    'document_access': 'document',\n",
    "    'prev_page': 'pagination',\n",
    "    'next_page': 'pagination',\n",
    "    'first_page': 'pagination',\n",
    "    'chosen_page': 'pagination',\n",
    "    'revisit_document': 'revisit_document',\n",
    "    'zoom': 'engagement',\n",
    "    'to_single_page_mode': 'engagement',\n",
    "    'to_double_page_mode': 'engagement',\n",
    "    'to_vertical_page_mode': 'engagement',\n",
    "    'to_audio_page_mode': 'engagement',\n",
    "    'to_multi_page_mode': 'engagement',\n",
    "    'page_download': 'download',\n",
    "    'document_download': 'download',\n",
    "}\n",
    "\n",
    "def encode_sequences(df, min_length=3, max_length=200, encode_using_parent_actions=True):\n",
    "    \"\"\"\n",
    "    Encodes the sequences into integers using LabelEncoder\n",
    "\n",
    "    Parameters:\n",
    "    df (pandas.DataFrame): input data frame with columns session_id, action, timestamp, Ark, Sequence\n",
    "\n",
    "    Returns:\n",
    "    sequences (pandas.DataFrame): output data frame with columns session_id, Encoded_Sequence\n",
    "    \"\"\"\n",
    "    # grouping actions by session_id and sorting them by timestamp\n",
    "    df = df.sort_values(by=['session_id', 'timestamp'])\n",
    "    # create a new column 'Sequence' containing a python list of actions for each session_id\n",
    "    if encode_using_parent_actions:\n",
    "        df['action'] = df['action'].map(actions_map)\n",
    "    # Encode \"action\" column using LabelEncoder\n",
    "    le = LabelEncoder()\n",
    "    df['action_encoded'] = le.fit_transform(df['action'])\n",
    "\n",
    "    # Group actions by \"session_id\" and concatenate them into sequences\n",
    "    sequences = df.groupby('session_id').agg(\n",
    "        {'action_encoded': lambda x: ' '.join(map(str, x))})\n",
    "    sequences_timestamp = df.groupby('session_id').agg(\n",
    "        {'timestamp': lambda x: list(x)})\n",
    "    sequences_timestamp = sequences_timestamp.rename(\n",
    "        columns={'timestamp': 'timestamp_list'})\n",
    "    sequences = sequences.merge(sequences_timestamp, on='session_id')\n",
    "    sequences = sequences.reset_index().rename(\n",
    "        columns={'action_encoded': 'Encoded_Sequence'})\n",
    "    \n",
    "    # filter sequences by length\n",
    "    sequences = sequences[sequences['Encoded_Sequence'].apply(\n",
    "        lambda x: len(x.split(' '))) >= min_length]\n",
    "    sequences = sequences[sequences['Encoded_Sequence'].apply(\n",
    "        lambda x: len(x.split(' '))) <= max_length].reset_index(drop=True)\n",
    "\n",
    "    # map to a list of integers\n",
    "    list_of_sequences = sequences['Encoded_Sequence'].apply(\n",
    "        lambda x: list(map(int, x.split(' '))))\n",
    "    sequences['Encoded_Sequence_List'] = list_of_sequences\n",
    "\n",
    "\n",
    "    # get mapping from action to integer\n",
    "    action_to_int = dict(zip(le.classes_, le.transform(le.classes_)))\n",
    "\n",
    "    # return the alphabet list \n",
    "    alphabet = list(le.transform(le.classes_))\n",
    "\n",
    "    return sequences, action_to_int, alphabet"
   ]
  },
  {
   "cell_type": "code",
   "execution_count": 22,
   "metadata": {},
   "outputs": [],
   "source": [
    "# call the function to encode sequences\n",
    "sequences, action_to_int, alphabet = encode_sequences(sessions)"
   ]
  },
  {
   "cell_type": "code",
   "execution_count": 23,
   "metadata": {},
   "outputs": [
    {
     "data": {
      "text/html": [
       "<div>\n",
       "<style scoped>\n",
       "    .dataframe tbody tr th:only-of-type {\n",
       "        vertical-align: middle;\n",
       "    }\n",
       "\n",
       "    .dataframe tbody tr th {\n",
       "        vertical-align: top;\n",
       "    }\n",
       "\n",
       "    .dataframe thead th {\n",
       "        text-align: right;\n",
       "    }\n",
       "</style>\n",
       "<table border=\"1\" class=\"dataframe\">\n",
       "  <thead>\n",
       "    <tr style=\"text-align: right;\">\n",
       "      <th></th>\n",
       "      <th>session_id</th>\n",
       "      <th>Encoded_Sequence</th>\n",
       "      <th>timestamp_list</th>\n",
       "      <th>Encoded_Sequence_List</th>\n",
       "    </tr>\n",
       "  </thead>\n",
       "  <tbody>\n",
       "    <tr>\n",
       "      <th>0</th>\n",
       "      <td>S_100_1_U_10190aa6e1f5e43d4797ea27ed0b2f90</td>\n",
       "      <td>7 0 10 10 10 10 10 10 10 10 10 10 10 10 10 10 ...</td>\n",
       "      <td>[2016-02-25 21:51:13+01:00, 2016-02-25 21:51:1...</td>\n",
       "      <td>[7, 0, 10, 10, 10, 10, 10, 10, 10, 10, 10, 10,...</td>\n",
       "    </tr>\n",
       "    <tr>\n",
       "      <th>1</th>\n",
       "      <td>S_100_1_U_103ccfd7aeec86ad3b8215d54a6813ff</td>\n",
       "      <td>7 10 10 10 10 10 10 10 10 5 10 10 10 10 10 10 ...</td>\n",
       "      <td>[2016-02-25 19:35:04+01:00, 2016-02-25 19:35:0...</td>\n",
       "      <td>[7, 10, 10, 10, 10, 10, 10, 10, 10, 5, 10, 10,...</td>\n",
       "    </tr>\n",
       "    <tr>\n",
       "      <th>2</th>\n",
       "      <td>S_100_1_U_105d99d0283c958bbec1b1e977134d98</td>\n",
       "      <td>10 10 5 10 10 5 10 10 10 2 2 8 8 8 8 8 9 2 8 8...</td>\n",
       "      <td>[2016-02-25 21:27:36+01:00, 2016-02-25 21:27:4...</td>\n",
       "      <td>[10, 10, 5, 10, 10, 5, 10, 10, 10, 2, 2, 8, 8,...</td>\n",
       "    </tr>\n",
       "    <tr>\n",
       "      <th>3</th>\n",
       "      <td>S_100_1_U_106d44f07524737f39f789145dd6a2c3</td>\n",
       "      <td>10 10 10 10 10 5 10 10 10 10 10 10 5 10 10 10 ...</td>\n",
       "      <td>[2016-02-25 19:48:45+01:00, 2016-02-25 19:48:4...</td>\n",
       "      <td>[10, 10, 10, 10, 10, 5, 10, 10, 10, 10, 10, 10...</td>\n",
       "    </tr>\n",
       "    <tr>\n",
       "      <th>4</th>\n",
       "      <td>S_100_1_U_10762f1c093d4f8558adfd91be941630</td>\n",
       "      <td>8 8 8 8 8 8 8 8 8 8 8 8 8 8</td>\n",
       "      <td>[2016-02-26 03:14:26+01:00, 2016-02-26 03:14:2...</td>\n",
       "      <td>[8, 8, 8, 8, 8, 8, 8, 8, 8, 8, 8, 8, 8, 8]</td>\n",
       "    </tr>\n",
       "    <tr>\n",
       "      <th>...</th>\n",
       "      <td>...</td>\n",
       "      <td>...</td>\n",
       "      <td>...</td>\n",
       "      <td>...</td>\n",
       "    </tr>\n",
       "    <tr>\n",
       "      <th>555349</th>\n",
       "      <td>S_9_3_U_a6bd9964674da1f9b4877b2d560b0ad9</td>\n",
       "      <td>2 2 2 2 2 2 2 2 2 2 2 2 2 2 2 10 2 10 2</td>\n",
       "      <td>[2016-02-03 05:15:28+01:00, 2016-02-03 05:15:4...</td>\n",
       "      <td>[2, 2, 2, 2, 2, 2, 2, 2, 2, 2, 2, 2, 2, 2, 2, ...</td>\n",
       "    </tr>\n",
       "    <tr>\n",
       "      <th>555350</th>\n",
       "      <td>S_9_3_U_d661edc5b772caed74bfa1e7d7bdc180</td>\n",
       "      <td>10 10 10 10 10 10 10 10 10 10 10 10 10 10 10 1...</td>\n",
       "      <td>[2016-02-02 21:29:08+01:00, 2016-02-02 21:29:0...</td>\n",
       "      <td>[10, 10, 10, 10, 10, 10, 10, 10, 10, 10, 10, 1...</td>\n",
       "    </tr>\n",
       "    <tr>\n",
       "      <th>555351</th>\n",
       "      <td>S_9_3_U_f11ff4788f234428fb157248203261cc</td>\n",
       "      <td>2 2 2 10 2</td>\n",
       "      <td>[2016-02-03 02:32:06+01:00, 2016-02-03 02:41:2...</td>\n",
       "      <td>[2, 2, 2, 10, 2]</td>\n",
       "    </tr>\n",
       "    <tr>\n",
       "      <th>555352</th>\n",
       "      <td>S_9_4_U_62262265f1525d53f7cbf2b1fba327b3</td>\n",
       "      <td>2 2 2 2 2</td>\n",
       "      <td>[2016-02-02 22:35:34+01:00, 2016-02-02 22:52:2...</td>\n",
       "      <td>[2, 2, 2, 2, 2]</td>\n",
       "    </tr>\n",
       "    <tr>\n",
       "      <th>555353</th>\n",
       "      <td>S_9_4_U_d36375cf2f71eeec2b1662bf22d277ea</td>\n",
       "      <td>2 2 2 2</td>\n",
       "      <td>[2016-02-02 20:47:34+01:00, 2016-02-02 20:47:4...</td>\n",
       "      <td>[2, 2, 2, 2]</td>\n",
       "    </tr>\n",
       "  </tbody>\n",
       "</table>\n",
       "<p>555354 rows × 4 columns</p>\n",
       "</div>"
      ],
      "text/plain": [
       "                                        session_id  \\\n",
       "0       S_100_1_U_10190aa6e1f5e43d4797ea27ed0b2f90   \n",
       "1       S_100_1_U_103ccfd7aeec86ad3b8215d54a6813ff   \n",
       "2       S_100_1_U_105d99d0283c958bbec1b1e977134d98   \n",
       "3       S_100_1_U_106d44f07524737f39f789145dd6a2c3   \n",
       "4       S_100_1_U_10762f1c093d4f8558adfd91be941630   \n",
       "...                                            ...   \n",
       "555349    S_9_3_U_a6bd9964674da1f9b4877b2d560b0ad9   \n",
       "555350    S_9_3_U_d661edc5b772caed74bfa1e7d7bdc180   \n",
       "555351    S_9_3_U_f11ff4788f234428fb157248203261cc   \n",
       "555352    S_9_4_U_62262265f1525d53f7cbf2b1fba327b3   \n",
       "555353    S_9_4_U_d36375cf2f71eeec2b1662bf22d277ea   \n",
       "\n",
       "                                         Encoded_Sequence  \\\n",
       "0       7 0 10 10 10 10 10 10 10 10 10 10 10 10 10 10 ...   \n",
       "1       7 10 10 10 10 10 10 10 10 5 10 10 10 10 10 10 ...   \n",
       "2       10 10 5 10 10 5 10 10 10 2 2 8 8 8 8 8 9 2 8 8...   \n",
       "3       10 10 10 10 10 5 10 10 10 10 10 10 5 10 10 10 ...   \n",
       "4                             8 8 8 8 8 8 8 8 8 8 8 8 8 8   \n",
       "...                                                   ...   \n",
       "555349            2 2 2 2 2 2 2 2 2 2 2 2 2 2 2 10 2 10 2   \n",
       "555350  10 10 10 10 10 10 10 10 10 10 10 10 10 10 10 1...   \n",
       "555351                                         2 2 2 10 2   \n",
       "555352                                          2 2 2 2 2   \n",
       "555353                                            2 2 2 2   \n",
       "\n",
       "                                           timestamp_list  \\\n",
       "0       [2016-02-25 21:51:13+01:00, 2016-02-25 21:51:1...   \n",
       "1       [2016-02-25 19:35:04+01:00, 2016-02-25 19:35:0...   \n",
       "2       [2016-02-25 21:27:36+01:00, 2016-02-25 21:27:4...   \n",
       "3       [2016-02-25 19:48:45+01:00, 2016-02-25 19:48:4...   \n",
       "4       [2016-02-26 03:14:26+01:00, 2016-02-26 03:14:2...   \n",
       "...                                                   ...   \n",
       "555349  [2016-02-03 05:15:28+01:00, 2016-02-03 05:15:4...   \n",
       "555350  [2016-02-02 21:29:08+01:00, 2016-02-02 21:29:0...   \n",
       "555351  [2016-02-03 02:32:06+01:00, 2016-02-03 02:41:2...   \n",
       "555352  [2016-02-02 22:35:34+01:00, 2016-02-02 22:52:2...   \n",
       "555353  [2016-02-02 20:47:34+01:00, 2016-02-02 20:47:4...   \n",
       "\n",
       "                                    Encoded_Sequence_List  \n",
       "0       [7, 0, 10, 10, 10, 10, 10, 10, 10, 10, 10, 10,...  \n",
       "1       [7, 10, 10, 10, 10, 10, 10, 10, 10, 5, 10, 10,...  \n",
       "2       [10, 10, 5, 10, 10, 5, 10, 10, 10, 2, 2, 8, 8,...  \n",
       "3       [10, 10, 10, 10, 10, 5, 10, 10, 10, 10, 10, 10...  \n",
       "4              [8, 8, 8, 8, 8, 8, 8, 8, 8, 8, 8, 8, 8, 8]  \n",
       "...                                                   ...  \n",
       "555349  [2, 2, 2, 2, 2, 2, 2, 2, 2, 2, 2, 2, 2, 2, 2, ...  \n",
       "555350  [10, 10, 10, 10, 10, 10, 10, 10, 10, 10, 10, 1...  \n",
       "555351                                   [2, 2, 2, 10, 2]  \n",
       "555352                                    [2, 2, 2, 2, 2]  \n",
       "555353                                       [2, 2, 2, 2]  \n",
       "\n",
       "[555354 rows x 4 columns]"
      ]
     },
     "execution_count": 23,
     "metadata": {},
     "output_type": "execute_result"
    }
   ],
   "source": [
    "sequences"
   ]
  },
  {
   "cell_type": "code",
   "execution_count": 24,
   "metadata": {},
   "outputs": [
    {
     "data": {
      "text/plain": [
       "{'advanced_search': 0,\n",
       " 'blog': 1,\n",
       " 'document': 2,\n",
       " 'download': 3,\n",
       " 'engagement': 4,\n",
       " 'filtering_search_results': 5,\n",
       " 'heading': 6,\n",
       " 'homepage': 7,\n",
       " 'pagination': 8,\n",
       " 'revisit_document': 9,\n",
       " 'search': 10}"
      ]
     },
     "execution_count": 24,
     "metadata": {},
     "output_type": "execute_result"
    }
   ],
   "source": [
    "action_to_int"
   ]
  },
  {
   "attachments": {},
   "cell_type": "markdown",
   "metadata": {},
   "source": [
    "## III. SGT embeddings"
   ]
  },
  {
   "cell_type": "code",
   "execution_count": 25,
   "metadata": {},
   "outputs": [],
   "source": [
    "def create_sgt_embeddings(df, kappa=0.01, lengthsensitive=False, mode='multiprocessing'):\n",
    "    \"\"\"\n",
    "    Creates SGT embeddings of sequences\n",
    "\n",
    "    Parameters:\n",
    "    df (pandas.DataFrame): input data frame with columns session_id, action, timestamp, Ark, Sequence\n",
    "    kappa (int): decay factor (default: 1)\n",
    "    lengthsensitive (bool): whether to use length-sensitive SGT (default: False)\n",
    "    mode (str): whether to use multiprocessing or not (default: 'multiprocessing')\n",
    "\n",
    "    Returns:\n",
    "    embeddings (numpy.ndarray): 2D array of shape (num_sessions, 100) containing sequence embeddings\n",
    "    \"\"\"\n",
    "    # convert sequences to lists of words\n",
    "    sequences = df['Encoded_Sequence'].apply(lambda x: x.split())\n",
    "\n",
    "    # Compute SGT embeddings\n",
    "    corpus = df[['session_id', 'Encoded_Sequence_List']].rename(\n",
    "        columns={'session_id': 'id', 'Encoded_Sequence_List': 'sequence'})\n",
    "    sgt_o = SGT(alphabets= alphabet, kappa=kappa,\n",
    "               lengthsensitive=lengthsensitive,\n",
    "               mode=mode)\n",
    "    sgtembedding_df = sgt_o.fit_transform(corpus)\n",
    "\n",
    "    # Set the id column as the dataframe index\n",
    "    sgtembedding_df = sgtembedding_df.set_index('id')\n",
    "\n",
    "    # extract the sequence embeddings (all columns except the sequence column)\n",
    "    embeddings = sgtembedding_df[sgtembedding_df.columns.difference(\n",
    "        ['sequence'])].values\n",
    "    embeddings = np.array(embeddings)\n",
    "\n",
    "    return embeddings"
   ]
  },
  {
   "cell_type": "code",
   "execution_count": 26,
   "metadata": {},
   "outputs": [],
   "source": [
    "import seaborn as sns\n",
    "import os\n",
    "import matplotlib.pyplot as plt\n",
    "import numpy as np\n",
    "\n",
    "def calculate_features(df, actions_column, timestamps_column):\n",
    "    # Number of 'search' actions in a session\n",
    "    df['search_count'] = df[actions_column].apply(lambda actions: actions.count('search')+actions.count('advanced_search')+actions.count('filtering_search_results'))\n",
    "\n",
    "    # Number of 'document_access' actions in a session\n",
    "    df['document_access_count'] = df[actions_column].apply(lambda actions: actions.count('document'))\n",
    "\n",
    "    # Ratio of 'search' actions to 'document_access' actions\n",
    "    df['search_to_doc_access_ratio'] = df['search_count'] / df['document_access_count']\n",
    "\n",
    "    # Length of the session\n",
    "    df['session_length'] = df[actions_column].apply(len)\n",
    "\n",
    "    # Number of unique actions in a session\n",
    "    df['unique_actions'] = df[actions_column].apply(lambda actions: len(set(actions)))\n",
    "\n",
    "    # Average number of actions before document_access\n",
    "    def actions_before_new_document(actions):\n",
    "        if actions.count(\"document\") > 1:\n",
    "            indices = [i for i, x in enumerate(actions) if x == \"document\"]\n",
    "            return np.mean(np.diff(indices))\n",
    "        return np.nan\n",
    "\n",
    "    df['avg_actions_before_doc_access'] = df[actions_column].apply(actions_before_new_document)\n",
    "\n",
    "    # Average time between actions\n",
    "    def avg_time_between_actions(timestamps):\n",
    "        diffs = [(timestamps[i+1]-timestamps[i]).total_seconds() for i in range(len(timestamps)-1)]\n",
    "        return np.mean(diffs) if diffs else np.nan\n",
    "\n",
    "    df['avg_time_between_actions'] = df[timestamps_column].apply(avg_time_between_actions)\n",
    "\n",
    "    # Session duration\n",
    "    def session_duration(timestamps):\n",
    "        return (max(timestamps)-min(timestamps)).total_seconds() if timestamps else np.nan\n",
    "\n",
    "    df['session_duration'] = df[timestamps_column].apply(session_duration)\n",
    "\n",
    "    # Handle inf and nan values\n",
    "    df = df.replace([np.inf, -np.inf], np.nan)\n",
    "    df = df.fillna(0)\n",
    "\n",
    "def visualize_clusters(sessions_grouped, directory, column, actions_column):\n",
    "    # Calculate the number of sessions in each cluster\n",
    "    cluster_sizes = sessions_grouped[column].value_counts().sort_index()\n",
    "    print(\"Cluster sizes:\")\n",
    "    print(cluster_sizes , cluster_sizes/len(sessions_grouped)*100)\n",
    "    # Calculate the mean session length in each cluster\n",
    "    sessions_grouped['session_length'] = sessions_grouped[actions_column].apply(len)\n",
    "    mean_session_lengths = sessions_grouped.groupby(column)['session_length'].mean()\n",
    "    print(\"\\nMean session lengths:\")\n",
    "    print(mean_session_lengths)\n",
    "\n",
    "    # Calculate the average time between actions for each cluster\n",
    "    avg_time_between_actions = sessions_grouped.groupby(column)['avg_time_between_actions'].mean()\n",
    "    print(\"\\nAverage Time between Actions:\")\n",
    "    print(avg_time_between_actions)\n",
    "\n",
    "    # Calculate the average session duration for each cluster\n",
    "    avg_session_duration = sessions_grouped.groupby(column)['session_duration'].mean()\n",
    "    print(\"\\nAverage Session Duration:\")\n",
    "    print(avg_session_duration)\n",
    "\n",
    "    # Calculate the average number of document accesses per cluster\n",
    "    def count_document_accesses(actions):\n",
    "        return actions.count(\"document\")\n",
    "\n",
    "    avg_document_accesses = sessions_grouped.groupby(column)[actions_column].apply(lambda x: x.apply(count_document_accesses).mean())\n",
    "    print(\"\\nAverage Document Accesses per Cluster:\")\n",
    "    print(avg_document_accesses)\n",
    "\n",
    "    # Calculate the average number of actions before a new document access\n",
    "    def actions_before_new_document(actions):\n",
    "        if actions.count(\"document\") > 1:\n",
    "            indices = [i for i, x in enumerate(actions) if x == \"document\"]\n",
    "            return np.mean(np.diff(indices))\n",
    "        return np.nan\n",
    "\n",
    "    avg_actions_before_new_doc = sessions_grouped.groupby(column)[actions_column].apply(lambda x: x.apply(actions_before_new_document).mean())\n",
    "    print(\"\\nAverage Actions before New Document Access per Cluster:\")\n",
    "    print(avg_actions_before_new_doc)\n",
    "\n",
    "    # Filter the actions to only include the page modes\n",
    "    page_modes = ['to_single_page_mode', 'to_multi_page_mode', 'to_vertical_page_mode', 'to_double_page_mode', 'to_audio_page_mode']\n",
    "    page_mode_counts = sessions_grouped.groupby(column)[actions_column].apply(lambda x: x.explode()[x.explode().isin(page_modes)].value_counts())\n",
    "    page_mode_counts = page_mode_counts.unstack(level=-1).fillna(0)\n",
    "\n",
    "    # Calculate the total count for each cluster\n",
    "    total_page_mode_counts = page_mode_counts.sum(axis=1)\n",
    "\n",
    "    # Calculate the average number of searches per cluster\n",
    "    def count_search(actions):\n",
    "        return actions.count(\"search\") + actions.count(\"advanced_search\")+ actions.count('filtering_search_results')\n",
    "\n",
    "    avg_search = sessions_grouped.groupby(column)[actions_column].apply(lambda x: x.apply(count_search).mean())\n",
    "    print(\"\\nAverage searches per Cluster:\")\n",
    "    print(avg_search)\n",
    "    \n",
    "    # Calculate the action counts for each cluster\n",
    "    cluster_action_counts = sessions_grouped.groupby(column)[actions_column].apply(lambda x: x.explode().value_counts())\n",
    "    cluster_action_counts = cluster_action_counts.unstack(level=-1).fillna(0)\n",
    "\n",
    "    # Get the top N most frequent actions\n",
    "    N = 10\n",
    "    top_actions = sessions_grouped[actions_column].explode().value_counts().head(N).index.tolist()\n",
    "\n",
    "    # Filter to keep only the top N actions\n",
    "    filtered_action_counts = cluster_action_counts[top_actions]\n",
    "\n",
    "    # Calculate the total count for each cluster\n",
    "    total_counts = filtered_action_counts.sum(axis=1)\n",
    "\n",
    "    # Plot the actions distribution as a stacked bar chart\n",
    "    print(\"Action distribution and percentage for each cluster:\\n\")\n",
    "    print(filtered_action_counts.div(total_counts, axis=0).mul(100).round(1))\n",
    "\n",
    "    fig, axes = plt.subplots(4, 2, figsize=(16, 20))  # 3 rows, 2 columns\n",
    "\n",
    "    # Flatten the axes array for easier indexing\n",
    "    axes = axes.flatten()\n",
    "\n",
    "    # Plot the cluster sizes\n",
    "    sns.barplot(x=cluster_sizes.index, y=cluster_sizes.values, palette='viridis', ax=axes[0])\n",
    "    axes[0].set_title(\"Cluster Sizes\")\n",
    "    axes[0].set_xlabel(\"Cluster\")\n",
    "    axes[0].set_ylabel(\"Number of Sessions\")\n",
    "\n",
    "    # Plot the mean session lengths\n",
    "    sns.barplot(x=mean_session_lengths.index, y=mean_session_lengths.values, palette='viridis', ax=axes[1])\n",
    "    axes[1].set_title(\"Mean Session Lengths per Cluster\")\n",
    "    axes[1].set_xlabel(\"Cluster\")\n",
    "    axes[1].set_ylabel(\"Mean Session Length\")\n",
    "\n",
    "    # Plot the mean document accesses\n",
    "    sns.barplot(x=avg_document_accesses.index, y=avg_document_accesses.values, palette='viridis', ax=axes[2])\n",
    "    axes[2].set_title(\"Mean Document Accesses per Cluster\")\n",
    "    axes[2].set_xlabel(\"Cluster\")\n",
    "    axes[2].set_ylabel(\"Mean Document Accesses\")\n",
    "\n",
    "    # Plot the mean search\n",
    "    sns.barplot(x=avg_search.index, y=avg_search.values, palette='viridis', ax=axes[3])\n",
    "    axes[3].set_title(\"Mean searches per Cluster\")\n",
    "    axes[3].set_xlabel(\"Cluster\")\n",
    "    axes[3].set_ylabel(\"Mean Searches\")\n",
    "\n",
    "    # Plot the mean actions before document access\n",
    "    sns.barplot(x=avg_actions_before_new_doc.index, y=avg_actions_before_new_doc.values, palette='viridis', ax=axes[4])\n",
    "    axes[4].set_title(\"Mean Actions before Document Access per Cluster\")\n",
    "    axes[4].set_xlabel(\"Cluster\")\n",
    "    axes[4].set_ylabel(\"Mean Actions before Document Access\")\n",
    "\n",
    "    # Plot the average time between actions\n",
    "    sns.barplot(x=avg_time_between_actions.index, y=avg_time_between_actions.values, palette='viridis', ax=axes[5])\n",
    "    axes[5].set_title(\"Average Time Between Actions per Cluster\")\n",
    "    axes[5].set_xlabel(\"Cluster\")\n",
    "    axes[5].set_ylabel(\"Average Time Between Actions\")\n",
    "    axes[5].set_yscale('log')  \n",
    "\n",
    "\n",
    "    # Plot the average session duration\n",
    "    sns.barplot(x=avg_session_duration.index, y=avg_session_duration.values, palette='viridis', ax=axes[6])\n",
    "    axes[6].set_title(\"Average Session Duration per Cluster\")\n",
    "    axes[6].set_xlabel(\"Cluster\")\n",
    "    axes[6].set_ylabel(\"Average Session Duration\")\n",
    "    axes[6].set_yscale('log')  \n",
    "\n",
    "\n",
    "\n",
    "\n",
    "    # Automatically adjust subplot params so that the subplotS fits in to the figure area\n",
    "    plt.tight_layout()\n",
    "\n",
    "    # Save and show the figure\n",
    "    plt.savefig(os.path.join(directory, 'features.png'))\n",
    "    plt.show()\n",
    "\n",
    "\n",
    "\n",
    "    # Plot action distribution\n",
    "    ax = filtered_action_counts.div(total_counts, axis=0).mul(100).plot(kind='bar', stacked=True, figsize=(12, 10))\n",
    "\n",
    "    plt.title(\"Top {} Actions Distribution in Each Cluster\".format(N))\n",
    "    plt.xlabel(\"Cluster\")\n",
    "    plt.ylabel(\"Percentage of Actions\")\n",
    "    plt.legend(title=\"Actions\", loc='upper left', bbox_to_anchor=(1, 1))\n",
    "\n",
    "    # Add percentages on top of the stacked bars\n",
    "    for i, rects in enumerate(ax.containers):\n",
    "        for rect in rects:\n",
    "            height = rect.get_height()\n",
    "            if height > 0:\n",
    "                ax.annotate(\n",
    "                    '{:.1f}%'.format(height),\n",
    "                    xy=(rect.get_x() + rect.get_width() / 2, rect.get_y() + height / 2),\n",
    "                    xytext=(0, 3),\n",
    "                    textcoords='offset points',\n",
    "                    ha='center',\n",
    "                    va='bottom',\n",
    "                    fontsize=8,\n",
    "                    color='white'\n",
    "                )\n",
    "    plt.savefig(os.path.join(directory, 'action_distribution.png'))\n",
    "    plt.show()\n",
    "\n",
    "\n",
    "\n",
    "\n",
    "    # Plot the page mode distribution in each cluster as stacked bar charts\n",
    "    if actions_column == 'action_detailed':\n",
    "        ax = page_mode_counts.div(total_page_mode_counts, axis=0).mul(100).plot(kind='bar', stacked=True, figsize=(12, 6))\n",
    "\n",
    "        plt.title(\"Page Mode Distribution in Each Cluster\")\n",
    "        plt.xlabel(\"Cluster\")\n",
    "        plt.ylabel(\"Percentage of Page Mode Actions\")\n",
    "        plt.legend(title=\"Page Modes\", loc='upper left', bbox_to_anchor=(1, 1))\n",
    "\n",
    "        # Add percentages on top of the stacked bars\n",
    "        for i, rects in enumerate(ax.containers):\n",
    "            for rect in rects:\n",
    "                height = rect.get_height()\n",
    "                if height > 0:\n",
    "                    ax.annotate(\n",
    "                        '{:.1f}%'.format(height),\n",
    "                        xy=(rect.get_x() + rect.get_width() / 2, rect.get_y() + height / 2),\n",
    "                        xytext=(0, 3),\n",
    "                        textcoords='offset points',\n",
    "                        ha='center',\n",
    "                        va='bottom',\n",
    "                        fontsize=8,\n",
    "                        color='white'\n",
    "                    )\n",
    "        plt.savefig(os.path.join(directory, 'mode_distribution.png'))\n",
    "        plt.show()"
   ]
  },
  {
   "cell_type": "code",
   "execution_count": 27,
   "metadata": {},
   "outputs": [],
   "source": [
    "number_color_mapping = {\n",
    "    0: (139, 0, 0),         # Dark Red\n",
    "    1: (0, 0, 0),           # Black\n",
    "    2: (0, 0, 255),         # Blue\n",
    "    3: (0, 128, 0),         # Green\n",
    "    4: (173, 216, 230),     # Light Blue\n",
    "    5: (255, 192, 203),     # Pink\n",
    "    6: (128, 128, 128),     # Gray\n",
    "    7: (165, 42, 42),       # Brown\n",
    "    8: (240, 230, 140),     # yellow\n",
    "    9: (0, 0, 139),         # Dark Blue\n",
    "    10: (255, 99, 71)       # Light Red\n",
    "}\n",
    "\n",
    "action_dict = {v: k for k, v in action_to_int.items()}\n",
    "\n",
    "# function that returns the sequences of the 10 closest sessions to a cluster centroid\n",
    "\n",
    "\n",
    "def get_closest_sessions(sequences, k=6, kappa=0.005):\n",
    "    \"\"\"\n",
    "    Returns the sequences of the 10 closest sessions to a cluster centroid\n",
    "\n",
    "    Parameters:\n",
    "    sequences (list): list of sequences\n",
    "    k (int): number of clusters\n",
    "    kappa (float): kappa parameter for the sgt embedding\n",
    "    clusters (numpy.ndarray): array containing the cluster labels for each session\n",
    "\n",
    "    Returns:\n",
    "    closest_sessions (list): list of the 10 closest sessions to a cluster centroid\n",
    "    \"\"\"\n",
    "    # create the sgt embeddings\n",
    "    embeddings = create_sgt_embeddings(sequences, kappa=kappa)\n",
    "\n",
    "    # perform umap (3 dims)\n",
    "    embeddings_2d = umap.UMAP(metric='cosine', random_state=42).fit_transform(embeddings)\n",
    "    embeddings_3d = umap.UMAP(metric='cosine', n_components=3, random_state=42).fit_transform(embeddings)\n",
    "\n",
    "    # perform k-means clustering\n",
    "    kmeans = KMeans(n_clusters=k, random_state=42)\n",
    "    kmeans.fit(embeddings_3d)\n",
    "\n",
    "\n",
    "    # plot the clusters in 2d   \n",
    "    plt.figure(figsize=(10, 10))\n",
    "    plt.scatter(embeddings_2d[:, 0], embeddings_2d[:, 1], c=kmeans.labels_, cmap='Spectral')\n",
    "    plt.title(f'k-Means Clustering with k={k} and kappa={kappa}')\n",
    "    plt.legend()\n",
    "    plt.show()\n",
    "\n",
    "    # plot the clusters in 3d\n",
    "    fig = plt.figure(figsize=(10, 10))\n",
    "    ax = fig.add_subplot(111, projection='3d')\n",
    "    ax.scatter(embeddings_3d[:, 0], embeddings_3d[:, 1], embeddings_3d[:, 2], c=kmeans.labels_, cmap='Spectral')\n",
    "    plt.title(f'k-Means Clustering with k={k} and kappa={kappa}')\n",
    "    plt.legend()\n",
    "\n",
    "    # if the folder html_files/Clusters_k_{k}_kappa_{kappa} does not exist, create it\n",
    "    if not os.path.exists(f'html_files/Clusters_k_{k}_kappa_{kappa}'):\n",
    "        os.makedirs(f'html_files/Clusters_k_{k}_kappa_{kappa}')\n",
    "    \n",
    "    # save plot to file \n",
    "    plt.savefig(f'html_files/Clusters_k_{k}_kappa_{kappa}/Clusters.png')\n",
    "\n",
    "    # get the indices of the 10 closest sessions to each cluster centroid\n",
    "    indices = dict()\n",
    "    for i in range(k):\n",
    "        indices[i] = np.argsort(np.linalg.norm(embeddings_3d - kmeans.cluster_centers_[i], axis=1))[:10]\n",
    "\n",
    "    # get the 10 closest sessions to each cluster centroid\n",
    "    closest_sessions = dict()\n",
    "    for i in range(k):\n",
    "        closest_sessions[i] = [sequences.loc[idx][\"Encoded_Sequence\"] for idx in indices[i]]\n",
    "\n",
    "    # get a mapping from session to cluster\n",
    "    session_to_cluster = dict()\n",
    "    for i, row in sequences.iterrows():\n",
    "        session_to_cluster[row['session_id']] = kmeans.labels_[i]\n",
    "\n",
    "    \n",
    "    return closest_sessions, session_to_cluster\n",
    "\n",
    "def visualize_sequences(sequence_list, number_color_mapping,k, kappa, cluster_number):\n",
    "    # Normalize RGB values to be within 0-1 range and convert to hexadecimal\n",
    "    colors = [f'#{\"\".join([hex(c)[2:].zfill(2) for c in color])}' for color in number_color_mapping.values()]\n",
    "    actions = list(number_color_mapping.keys())\n",
    "\n",
    "    fig = go.Figure()\n",
    "\n",
    "    for i, sequence in enumerate(sequence_list):\n",
    "        sequence_arr = np.array(list(map(int, sequence.split())))\n",
    "        x_pos = np.arange(len(sequence_arr))\n",
    "        y_pos = np.full_like(x_pos, i)\n",
    "        labels = [colors[label % len(colors)] for label in sequence_arr]\n",
    "\n",
    "        hover_text = [f\"Action: {action_dict[label]}, Position: {pos}\" for label, pos in zip(sequence_arr, x_pos)]\n",
    "\n",
    "        fig.add_trace(go.Scatter(\n",
    "            x=x_pos,\n",
    "            y=y_pos,\n",
    "            mode='markers',\n",
    "            marker=dict(\n",
    "                symbol='square',\n",
    "                color=labels,\n",
    "                size= 15,\n",
    "            ),\n",
    "            name=actions[i],\n",
    "            hovertemplate=\"%{text}\",\n",
    "            text=hover_text\n",
    "        ))\n",
    "\n",
    "\n",
    "    fig.update_layout(\n",
    "        title='Cluster ' + str(cluster_number + 1),\n",
    "        yaxis=dict(\n",
    "            tickmode='array',\n",
    "            tickvals=np.arange(len(sequences)),\n",
    "            ticktext=sequences,\n",
    "            showticklabels=False,\n",
    "        ),\n",
    "        xaxis=dict(\n",
    "            showticklabels=False\n",
    "        ),\n",
    "        showlegend=False,\n",
    "        height=800,\n",
    "        width=1000\n",
    "        \n",
    "    )\n",
    "\n",
    "\n",
    "    # save plot to file\n",
    "    fig.write_html(f'html_files/Clusters_k_{k}_kappa_{kappa}/Cluster_{cluster_number + 1}.html')\n",
    "    \n",
    "\n",
    "def visualise_cluster_closest_sessions(sequences, k=6, kappa=0.005, number_color_mapping=number_color_mapping):\n",
    "    closest_sessions, session_to_cluster = get_closest_sessions(sequences, k, kappa)\n",
    "    for i, sequence_list in closest_sessions.items():\n",
    "        visualize_sequences(sequence_list, number_color_mapping, k, kappa, i)\n",
    "    return session_to_cluster"
   ]
  },
  {
   "cell_type": "code",
   "execution_count": 28,
   "metadata": {},
   "outputs": [
    {
     "name": "stdout",
     "output_type": "stream",
     "text": [
      "INFO: Pandarallel will run on 7 workers.\n",
      "INFO: Pandarallel will use standard multiprocessing data transfer (pipe) to transfer data between the main process and workers.\n"
     ]
    },
    {
     "name": "stderr",
     "output_type": "stream",
     "text": [
      "No artists with labels found to put in legend.  Note that artists whose label start with an underscore are ignored when legend() is called with no argument.\n"
     ]
    },
    {
     "data": {
      "image/png": "[encoded data removed]",
      "text/plain": [
       "<Figure size 720x720 with 1 Axes>"
      ]
     },
     "metadata": {
      "needs_background": "light"
     },
     "output_type": "display_data"
    },
    {
     "name": "stderr",
     "output_type": "stream",
     "text": [
      "No artists with labels found to put in legend.  Note that artists whose label start with an underscore are ignored when legend() is called with no argument.\n"
     ]
    }
   ],
   "source": [
    "# parameters\n",
    "k = 10\n",
    "kappa = 1e-7\n",
    "\n",
    "session_to_cluster = visualise_cluster_closest_sessions(sequences, k=k, kappa=kappa)"
   ]
  },
  {
   "cell_type": "code",
   "execution_count": null,
   "metadata": {},
   "outputs": [],
   "source": [
    "sequences['Cluster'] = sequences['session_id'].map(session_to_cluster)"
   ]
  },
  {
   "cell_type": "code",
   "execution_count": null,
   "metadata": {},
   "outputs": [
    {
     "name": "stdout",
     "output_type": "stream",
     "text": [
      "Cluster sizes:\n",
      "0    1290\n",
      "1     215\n",
      "2     128\n",
      "3     173\n",
      "4     202\n",
      "5      96\n",
      "6     381\n",
      "7      28\n",
      "8     280\n",
      "9    1384\n",
      "Name: Cluster, dtype: int64 0    30.883409\n",
      "1     5.147235\n",
      "2     3.064400\n",
      "3     4.141729\n",
      "4     4.836007\n",
      "5     2.298300\n",
      "6     9.121379\n",
      "7     0.670338\n",
      "8     6.703376\n",
      "9    33.133828\n",
      "Name: Cluster, dtype: float64\n",
      "\n",
      "Mean session lengths:\n",
      "Cluster\n",
      "0    48.904651\n",
      "1    32.655814\n",
      "2    21.640625\n",
      "3    15.930636\n",
      "4    25.663366\n",
      "5    17.458333\n",
      "6    31.540682\n",
      "7     9.892857\n",
      "8    35.071429\n",
      "9    36.372110\n",
      "Name: session_length, dtype: float64\n",
      "\n",
      "Average Time between Actions:\n",
      "Cluster\n",
      "0    29.342923\n",
      "1    50.572489\n",
      "2    34.231051\n",
      "3    29.202435\n",
      "4    26.802782\n",
      "5    29.388774\n",
      "6    32.617579\n",
      "7     5.028003\n",
      "8    32.226471\n",
      "9    59.695377\n",
      "Name: avg_time_between_actions, dtype: float64\n",
      "\n",
      "Average Session Duration:\n",
      "Cluster\n",
      "0    1029.707752\n",
      "1     869.772093\n",
      "2     500.921875\n",
      "3     371.930636\n",
      "4     441.356436\n",
      "5     297.187500\n",
      "6     817.480315\n",
      "7      54.428571\n",
      "8     724.203571\n",
      "9     972.438584\n",
      "Name: session_duration, dtype: float64\n",
      "\n",
      "Average Document Accesses per Cluster:\n",
      "Cluster\n",
      "0    3.932558\n",
      "1    2.474419\n",
      "2    1.523438\n",
      "3    2.150289\n",
      "4    2.574257\n",
      "5    2.072917\n",
      "6    2.666667\n",
      "7    1.035714\n",
      "8    2.464286\n",
      "9    3.880058\n",
      "Name: Action_list, dtype: float64\n",
      "\n",
      "Average Actions before New Document Access per Cluster:\n",
      "Cluster\n",
      "0    12.892124\n",
      "1     9.676849\n",
      "2    12.199721\n",
      "3     1.662913\n",
      "4     6.885922\n",
      "5     5.729196\n",
      "6    11.256563\n",
      "7    20.000000\n",
      "8    13.416930\n",
      "9     8.228308\n",
      "Name: Action_list, dtype: float64\n",
      "\n",
      "Average searches per Cluster:\n",
      "Cluster\n",
      "0    20.890698\n",
      "1    16.004651\n",
      "2     8.593750\n",
      "3     2.757225\n",
      "4     7.900990\n",
      "5     8.645833\n",
      "6    10.645669\n",
      "7     0.821429\n",
      "8    10.682143\n",
      "9    16.033960\n",
      "Name: Action_list, dtype: float64\n",
      "Action distribution and percentage for each cluster:\n",
      "\n",
      "         search  pagination  document  engagement  download  homepage  blog  \\\n",
      "Cluster                                                                       \n",
      "0          42.5        40.2       8.0         3.4       3.7       0.8   0.7   \n",
      "1          48.5        33.1       7.6         4.9       2.3       2.5   0.0   \n",
      "2          39.1        36.6       7.0         4.6      10.5       0.9   0.0   \n",
      "3          16.1        59.3      13.7         6.4       3.3       0.4   0.0   \n",
      "4          30.4        44.0      10.1         5.6       8.3       1.1   0.0   \n",
      "5          49.2        25.6      11.9         4.4       5.0       2.5   0.0   \n",
      "6          33.4        45.8       8.5         4.6       4.7       0.8   0.8   \n",
      "7           8.3        80.9      10.5         0.0       0.0       0.4   0.0   \n",
      "8          30.2        46.6       7.0         7.7       1.4       0.9   4.6   \n",
      "9          43.5        34.2      10.7         4.5       3.9       1.2   0.4   \n",
      "\n",
      "         heading  filtering_search_results  revisit_document  \n",
      "Cluster                                                       \n",
      "0            0.2                       0.2               0.2  \n",
      "1            0.6                       0.3               0.1  \n",
      "2            0.5                       0.5               0.2  \n",
      "3            0.5                       0.2               0.1  \n",
      "4            0.2                       0.1               0.2  \n",
      "5            1.2                       0.1               0.2  \n",
      "6            1.2                       0.2               0.2  \n",
      "7            0.0                       0.0               0.0  \n",
      "8            1.0                       0.2               0.3  \n",
      "9            0.8                       0.5               0.3  \n"
     ]
    },
    {
     "data": {
      "image/png": "[encoded data removed]",
      "text/plain": [
       "<Figure size 1152x1440 with 8 Axes>"
      ]
     },
     "metadata": {
      "needs_background": "light"
     },
     "output_type": "display_data"
    },
    {
     "data": {
      "image/png": "[encoded data removed]",
      "text/plain": [
       "<Figure size 864x720 with 1 Axes>"
      ]
     },
     "metadata": {
      "needs_background": "light"
     },
     "output_type": "display_data"
    }
   ],
   "source": [
    "sequences['Cluster'] = sequences['session_id'].map(session_to_cluster)\n",
    "sequences['Action_list'] = sequences['Encoded_Sequence'].apply(lambda x: [action_dict[int(action)] for action in x.split()])\n",
    "calculate_features(sequences, 'Action_list', 'timestamp_list')\n",
    "visualize_clusters(sequences,f\"html_files/Clusters_k_{k}_kappa_{kappa}\",'Cluster', 'Action_list')"
   ]
  }
 ],
 "metadata": {
  "kernelspec": {
   "display_name": "venv",
   "language": "python",
   "name": "python3"
  },
  "language_info": {
   "codemirror_mode": {
    "name": "ipython",
    "version": 3
   },
   "file_extension": ".py",
   "mimetype": "text/x-python",
   "name": "python",
   "nbconvert_exporter": "python",
   "pygments_lexer": "ipython3",
   "version": "3.9.5"
  },
  "orig_nbformat": 4,
  "vscode": {
   "interpreter": {
    "hash": "b896acc844e5ffc4959d31b60d63670d0c0866be07243a56b6e151716b49890e"
   }
  }
 },
 "nbformat": 4,
 "nbformat_minor": 2
}
